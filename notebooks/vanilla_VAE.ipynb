{
 "cells": [
  {
   "cell_type": "code",
   "execution_count": 1,
   "id": "19f78cef",
   "metadata": {},
   "outputs": [],
   "source": [
    "import torch\n",
    "import torch.nn as nn\n",
    "import torch.nn.functional as F\n",
    "import torch.distributions as D\n",
    "import torchvision\n",
    "from tqdm import tqdm_notebook\n",
    "import torchvision.transforms as transforms\n",
    "from torchvision.utils import save_image\n",
    "\n",
    "import numpy as np\n",
    "import matplotlib.pyplot as plt\n",
    "from matplotlib import rc\n",
    "\n",
    "from tqdm import tqdm\n",
    "\n",
    "import pdb\n",
    "\n",
    "%matplotlib inline"
   ]
  },
  {
   "cell_type": "code",
   "execution_count": 2,
   "id": "a9d24b3b",
   "metadata": {},
   "outputs": [],
   "source": [
    "import warnings\n",
    "warnings.filterwarnings('ignore')"
   ]
  },
  {
   "cell_type": "code",
   "execution_count": 3,
   "id": "8bb26e6a",
   "metadata": {},
   "outputs": [],
   "source": [
    "# rc('text', usetex=True)"
   ]
  },
  {
   "cell_type": "markdown",
   "id": "129bbe0f",
   "metadata": {},
   "source": [
    "## Loading the dataset"
   ]
  },
  {
   "cell_type": "code",
   "execution_count": 4,
   "id": "c2e7340f",
   "metadata": {},
   "outputs": [],
   "source": [
    "batch_size = 20"
   ]
  },
  {
   "cell_type": "code",
   "execution_count": 5,
   "id": "47510a84",
   "metadata": {},
   "outputs": [],
   "source": [
    "'''\n",
    "Loads MNIST dataset\n",
    "'''\n",
    "def binarize(x):\n",
    "    D.Bernoulli(torch.tensor([x]))\n",
    "    return (x>0.0).float()\n",
    "\n",
    "transform = transforms.Compose([transforms.ToTensor(), transforms.Lambda(binarize)])\n",
    "\n",
    "trainset = torchvision.datasets.MNIST(root='./data', train=True, download=True, transform=transform)\n",
    "torch.utils.data.Dataset(trainset, ge)\n",
    "trainloader = torch.utils.data.DataLoader(trainset, batch_size=batch_size, shuffle=True, num_workers=0)\n",
    "\n",
    "testset = torchvision.datasets.MNIST(root='./data', train=False, download=True, transform=transform)\n",
    "testloader = torch.utils.data.DataLoader(testset, batch_size=batch_size, shuffle=True, num_workers=0)\n",
    "\n",
    "# class_names = tuple(str(i) for i in range(10))"
   ]
  },
  {
   "cell_type": "code",
   "execution_count": 99,
   "id": "19719f34",
   "metadata": {},
   "outputs": [],
   "source": [
    "'''\n",
    "Loads FashionMNIST dataset\n",
    "'''\n",
    "transform = transforms.Compose([transforms.ToTensor()])\n",
    "\n",
    "trainset = torchvision.datasets.FashionMNIST(root='./data', train=True, download=True, transform=transform)\n",
    "torch.utils.data.Dataset()\n",
    "trainloader = torch.utils.data.DataLoader(trainset, batch_size=batch_size, shuffle=True, num_workers=0)\n",
    "\n",
    "testset = torchvision.datasets.FashionMNIST(root='./data', train=False, download=True, transform=transform)\n",
    "testloader = torch.utils.data.DataLoader(testset, batch_size=batch_size, shuffle=True, num_workers=0)\n",
    "\n",
    "# class_names = tuple(str(i) for i in range(10))"
   ]
  },
  {
   "cell_type": "code",
   "execution_count": 6,
   "id": "ea80f922",
   "metadata": {},
   "outputs": [
    {
     "data": {
      "image/png": "[encoded data removed]",
      "text/plain": [
       "<Figure size 1080x720 with 1 Axes>"
      ]
     },
     "metadata": {
      "needs_background": "light"
     },
     "output_type": "display_data"
    }
   ],
   "source": [
    "def imshow(img):\n",
    "    npimg = img.numpy()\n",
    "    plt.imshow(np.transpose(npimg, (1, 2, 0)))\n",
    "\n",
    "dataiter = iter(trainloader)\n",
    "images, labels = dataiter.next()\n",
    "\n",
    "plt.figure(figsize=(15,10))\n",
    "imshow(torchvision.utils.make_grid(images[:10], nrow=10))\n",
    "plt.show()"
   ]
  },
  {
   "cell_type": "code",
   "execution_count": 92,
   "id": "ea84e0d0",
   "metadata": {},
   "outputs": [],
   "source": [
    "device = \"cuda\" if torch.cuda.is_available() else \"cpu\""
   ]
  },
  {
   "cell_type": "code",
   "execution_count": 93,
   "id": "16fbf9f8",
   "metadata": {},
   "outputs": [
    {
     "data": {
      "text/plain": [
       "'cuda'"
      ]
     },
     "execution_count": 93,
     "metadata": {},
     "output_type": "execute_result"
    }
   ],
   "source": [
    "device"
   ]
  },
  {
   "cell_type": "markdown",
   "id": "7a929298",
   "metadata": {},
   "source": [
    "## Model parameters"
   ]
  },
  {
   "cell_type": "code",
   "execution_count": 94,
   "id": "6ef5a7af",
   "metadata": {},
   "outputs": [],
   "source": [
    "class VAE(nn.Module):\n",
    "    def __init__(self, hidden_dim):\n",
    "        super(VAE, self).__init__()\n",
    "        \n",
    "        self.hidden_dim = hidden_dim\n",
    "        self.encoder = nn.Sequential(nn.Linear(784,392),\n",
    "                                     nn.ELU(),\n",
    "                                     nn.Linear(392, 196),\n",
    "                                     nn.ELU())\n",
    "        \n",
    "        self.hidden_mu = nn.Linear(196, self.hidden_dim)\n",
    "        self.hidden_log_var = nn.Linear(196, self.hidden_dim)\n",
    "        \n",
    "        self.decoder = nn.Sequential(nn.Linear(self.hidden_dim, 196),\n",
    "                                     nn.ELU(),\n",
    "                                     nn.Linear(196, 392),\n",
    "                                     nn.ELU(),\n",
    "                                     nn.Linear(392, 784),\n",
    "                                     nn.Sigmoid())\n",
    "        \n",
    "    def encode(self, x):\n",
    "        hidden = self.encoder(x)\n",
    "        mu = self.hidden_mu(hidden)\n",
    "        log_var = self.hidden_log_var(hidden)\n",
    "        return mu, log_var\n",
    "\n",
    "    def reparametrize(self, mu, log_var):\n",
    "        std = torch.exp(0.5 * log_var)\n",
    "        z = torch.randn_like(std) # get normal distribution size of sigma\n",
    "        return mu + z*std\n",
    "    \n",
    "    def decode(self, z):\n",
    "        x = self.decoder(z)\n",
    "        return x\n",
    "    \n",
    "    def forward(self, x):\n",
    "        mu, log_var = self.encode(x.view(-1, 784))\n",
    "        hidden = self.reparametrize(mu, log_var) # bottleneck\n",
    "        output = self.decoder(hidden) # x_out\n",
    "        return mu, log_var, output"
   ]
  },
  {
   "cell_type": "code",
   "execution_count": 38,
   "id": "b91c6739",
   "metadata": {},
   "outputs": [
    {
     "data": {
      "text/plain": [
       "VAE(\n",
       "  (encoder): Sequential(\n",
       "    (0): Linear(in_features=784, out_features=392, bias=True)\n",
       "    (1): ReLU()\n",
       "  )\n",
       "  (hidden_mu): Linear(in_features=392, out_features=64, bias=True)\n",
       "  (hidden_log_var): Linear(in_features=392, out_features=64, bias=True)\n",
       "  (decoder): Sequential(\n",
       "    (0): Linear(in_features=64, out_features=392, bias=True)\n",
       "    (1): ReLU()\n",
       "    (2): Linear(in_features=392, out_features=784, bias=True)\n",
       "    (3): Sigmoid()\n",
       "  )\n",
       ")"
      ]
     },
     "execution_count": 38,
     "metadata": {},
     "output_type": "execute_result"
    }
   ],
   "source": [
    "hidden_dim = 64\n",
    "net = VAE(hidden_dim)\n",
    "optimizer = torch.optim.Adam(params = net.parameters())\n",
    "# lr_scheduler = torch.optim.lr_scheduler.StepLR(optimizer=optimizer, step_size=100, gamma=0.75)\n",
    "history = {'train':[], 'test':[]}\n",
    "\n",
    "PATH = \"pretrained/vanilla_vae_mnist.pth\"\n",
    "checkpoint = torch.load(PATH)\n",
    "net.load_state_dict(checkpoint['model_state_dict'])\n",
    "optimizer.load_state_dict(checkpoint['optimizer_state_dict'])\n",
    "history['train'] = checkpoint['train_loss']\n",
    "history['test'] = checkpoint['test_loss']\n",
    "\n",
    "net.eval()"
   ]
  },
  {
   "cell_type": "markdown",
   "id": "e4d3b063",
   "metadata": {},
   "source": [
    "## Training and testing"
   ]
  },
  {
   "cell_type": "code",
   "execution_count": 95,
   "id": "852d7911",
   "metadata": {},
   "outputs": [],
   "source": [
    "def loss_fn(mu, log_var, x_out, x):\n",
    "    kl_loss = -0.5 * torch.sum( 1 + log_var - mu**2 - torch.exp(log_var))\n",
    "    recon_loss = F.binary_cross_entropy(x_out, x.view(-1, 784), reduction='sum')\n",
    "    loss = recon_loss + kl_loss\n",
    "    return loss"
   ]
  },
  {
   "cell_type": "code",
   "execution_count": 96,
   "id": "b6b93f60",
   "metadata": {},
   "outputs": [
    {
     "data": {
      "application/vnd.jupyter.widget-view+json": {
       "model_id": "5ba44335fb0b40ebbc3b827ed22dcfb9",
       "version_major": 2,
       "version_minor": 0
      },
      "text/plain": [
       "  0%|          | 0/3000 [00:00<?, ?it/s]"
      ]
     },
     "metadata": {},
     "output_type": "display_data"
    },
    {
     "name": "stdout",
     "output_type": "stream",
     "text": [
      "===> Epoch: 1/18 Average train loss: 125.3123\n",
      "===> Test set loss: 99.5005\n"
     ]
    },
    {
     "data": {
      "application/vnd.jupyter.widget-view+json": {
       "model_id": "7f10371ca8ca428a821a1c5d03cdeede",
       "version_major": 2,
       "version_minor": 0
      },
      "text/plain": [
       "  0%|          | 0/3000 [00:00<?, ?it/s]"
      ]
     },
     "metadata": {},
     "output_type": "display_data"
    },
    {
     "name": "stdout",
     "output_type": "stream",
     "text": [
      "===> Epoch: 2/18 Average train loss: 95.9806\n",
      "===> Test set loss: 91.8287\n"
     ]
    },
    {
     "data": {
      "application/vnd.jupyter.widget-view+json": {
       "model_id": "97674367fe0c461089b0ead1b64cf285",
       "version_major": 2,
       "version_minor": 0
      },
      "text/plain": [
       "  0%|          | 0/3000 [00:00<?, ?it/s]"
      ]
     },
     "metadata": {},
     "output_type": "display_data"
    },
    {
     "name": "stdout",
     "output_type": "stream",
     "text": [
      "===> Epoch: 3/18 Average train loss: 91.4478\n",
      "===> Test set loss: 88.5649\n"
     ]
    },
    {
     "data": {
      "application/vnd.jupyter.widget-view+json": {
       "model_id": "8739dcb5074245d6aa4805a303db0cbd",
       "version_major": 2,
       "version_minor": 0
      },
      "text/plain": [
       "  0%|          | 0/3000 [00:00<?, ?it/s]"
      ]
     },
     "metadata": {},
     "output_type": "display_data"
    },
    {
     "name": "stdout",
     "output_type": "stream",
     "text": [
      "===> Epoch: 4/18 Average train loss: 89.0104\n",
      "===> Test set loss: 87.8843\n"
     ]
    },
    {
     "data": {
      "application/vnd.jupyter.widget-view+json": {
       "model_id": "009cf1cb3e264db8adf23bc961918b8e",
       "version_major": 2,
       "version_minor": 0
      },
      "text/plain": [
       "  0%|          | 0/3000 [00:00<?, ?it/s]"
      ]
     },
     "metadata": {},
     "output_type": "display_data"
    },
    {
     "name": "stdout",
     "output_type": "stream",
     "text": [
      "===> Epoch: 5/18 Average train loss: 87.4914\n",
      "===> Test set loss: 85.8597\n"
     ]
    },
    {
     "data": {
      "application/vnd.jupyter.widget-view+json": {
       "model_id": "d321ac24cdf246af945e84b65421ccd9",
       "version_major": 2,
       "version_minor": 0
      },
      "text/plain": [
       "  0%|          | 0/3000 [00:00<?, ?it/s]"
      ]
     },
     "metadata": {},
     "output_type": "display_data"
    },
    {
     "name": "stdout",
     "output_type": "stream",
     "text": [
      "===> Epoch: 6/18 Average train loss: 86.3510\n",
      "===> Test set loss: 86.9861\n"
     ]
    },
    {
     "data": {
      "application/vnd.jupyter.widget-view+json": {
       "model_id": "f7cf6f5329c44187bf5972f3ce496b85",
       "version_major": 2,
       "version_minor": 0
      },
      "text/plain": [
       "  0%|          | 0/3000 [00:00<?, ?it/s]"
      ]
     },
     "metadata": {},
     "output_type": "display_data"
    },
    {
     "name": "stdout",
     "output_type": "stream",
     "text": [
      "===> Epoch: 7/18 Average train loss: 85.6197\n",
      "===> Test set loss: 86.4483\n"
     ]
    },
    {
     "data": {
      "application/vnd.jupyter.widget-view+json": {
       "model_id": "86284cf5a657450eb313f841cebe7649",
       "version_major": 2,
       "version_minor": 0
      },
      "text/plain": [
       "  0%|          | 0/3000 [00:00<?, ?it/s]"
      ]
     },
     "metadata": {},
     "output_type": "display_data"
    },
    {
     "name": "stdout",
     "output_type": "stream",
     "text": [
      "===> Epoch: 8/18 Average train loss: 84.9761\n",
      "===> Test set loss: 84.2540\n"
     ]
    },
    {
     "data": {
      "application/vnd.jupyter.widget-view+json": {
       "model_id": "8330fef69cf04d17a82209262163c406",
       "version_major": 2,
       "version_minor": 0
      },
      "text/plain": [
       "  0%|          | 0/3000 [00:00<?, ?it/s]"
      ]
     },
     "metadata": {},
     "output_type": "display_data"
    },
    {
     "name": "stdout",
     "output_type": "stream",
     "text": [
      "===> Epoch: 9/18 Average train loss: 84.3209\n",
      "===> Test set loss: 84.5985\n"
     ]
    },
    {
     "data": {
      "application/vnd.jupyter.widget-view+json": {
       "model_id": "6ff9dbbdb5df45a1975f21dbc6899428",
       "version_major": 2,
       "version_minor": 0
      },
      "text/plain": [
       "  0%|          | 0/3000 [00:00<?, ?it/s]"
      ]
     },
     "metadata": {},
     "output_type": "display_data"
    },
    {
     "name": "stdout",
     "output_type": "stream",
     "text": [
      "===> Epoch: 10/18 Average train loss: 83.8104\n",
      "===> Test set loss: 84.1216\n"
     ]
    },
    {
     "data": {
      "application/vnd.jupyter.widget-view+json": {
       "model_id": "69f39301cbd44b13bdc2ad53e96cada5",
       "version_major": 2,
       "version_minor": 0
      },
      "text/plain": [
       "  0%|          | 0/3000 [00:00<?, ?it/s]"
      ]
     },
     "metadata": {},
     "output_type": "display_data"
    },
    {
     "name": "stdout",
     "output_type": "stream",
     "text": [
      "===> Epoch: 11/18 Average train loss: 83.4340\n",
      "===> Test set loss: 83.7256\n"
     ]
    },
    {
     "data": {
      "application/vnd.jupyter.widget-view+json": {
       "model_id": "d120a63c47a7440fb7733032ea5ec50a",
       "version_major": 2,
       "version_minor": 0
      },
      "text/plain": [
       "  0%|          | 0/3000 [00:00<?, ?it/s]"
      ]
     },
     "metadata": {},
     "output_type": "display_data"
    },
    {
     "name": "stdout",
     "output_type": "stream",
     "text": [
      "===> Epoch: 12/18 Average train loss: 83.0569\n",
      "===> Test set loss: 84.1628\n"
     ]
    },
    {
     "data": {
      "application/vnd.jupyter.widget-view+json": {
       "model_id": "02d40fdbaf7547dd8e279bdab2b0ad3c",
       "version_major": 2,
       "version_minor": 0
      },
      "text/plain": [
       "  0%|          | 0/3000 [00:00<?, ?it/s]"
      ]
     },
     "metadata": {},
     "output_type": "display_data"
    },
    {
     "name": "stdout",
     "output_type": "stream",
     "text": [
      "===> Epoch: 13/18 Average train loss: 82.6006\n",
      "===> Test set loss: 82.1427\n"
     ]
    },
    {
     "data": {
      "application/vnd.jupyter.widget-view+json": {
       "model_id": "5e887cde7ec348dc8f213499fc743121",
       "version_major": 2,
       "version_minor": 0
      },
      "text/plain": [
       "  0%|          | 0/3000 [00:00<?, ?it/s]"
      ]
     },
     "metadata": {},
     "output_type": "display_data"
    },
    {
     "name": "stdout",
     "output_type": "stream",
     "text": [
      "===> Epoch: 14/18 Average train loss: 82.3687\n",
      "===> Test set loss: 84.4750\n"
     ]
    },
    {
     "data": {
      "application/vnd.jupyter.widget-view+json": {
       "model_id": "b45face4fc7a4d0685e80aa53b7e1395",
       "version_major": 2,
       "version_minor": 0
      },
      "text/plain": [
       "  0%|          | 0/3000 [00:00<?, ?it/s]"
      ]
     },
     "metadata": {},
     "output_type": "display_data"
    },
    {
     "name": "stdout",
     "output_type": "stream",
     "text": [
      "===> Epoch: 15/18 Average train loss: 82.0429\n",
      "===> Test set loss: 83.0907\n"
     ]
    },
    {
     "data": {
      "application/vnd.jupyter.widget-view+json": {
       "model_id": "17e3d72896944b2280baec16f5da5c4f",
       "version_major": 2,
       "version_minor": 0
      },
      "text/plain": [
       "  0%|          | 0/3000 [00:00<?, ?it/s]"
      ]
     },
     "metadata": {},
     "output_type": "display_data"
    },
    {
     "name": "stdout",
     "output_type": "stream",
     "text": [
      "===> Epoch: 16/18 Average train loss: 81.8307\n",
      "===> Test set loss: 82.6630\n"
     ]
    },
    {
     "data": {
      "application/vnd.jupyter.widget-view+json": {
       "model_id": "6d8f9fe8c42945e9bc189c7bd320dade",
       "version_major": 2,
       "version_minor": 0
      },
      "text/plain": [
       "  0%|          | 0/3000 [00:00<?, ?it/s]"
      ]
     },
     "metadata": {},
     "output_type": "display_data"
    },
    {
     "name": "stdout",
     "output_type": "stream",
     "text": [
      "===> Epoch: 17/18 Average train loss: 81.5890\n",
      "===> Test set loss: 81.4491\n"
     ]
    },
    {
     "data": {
      "application/vnd.jupyter.widget-view+json": {
       "model_id": "29d30d7b789d4d0c93f0e0fb0f14c0b5",
       "version_major": 2,
       "version_minor": 0
      },
      "text/plain": [
       "  0%|          | 0/3000 [00:00<?, ?it/s]"
      ]
     },
     "metadata": {},
     "output_type": "display_data"
    },
    {
     "name": "stdout",
     "output_type": "stream",
     "text": [
      "===> Epoch: 18/18 Average train loss: 81.2729\n",
      "===> Test set loss: 81.8007\n"
     ]
    }
   ],
   "source": [
    "def train(epoch):\n",
    "    net.train()\n",
    "    running_loss = 0\n",
    "    for batch_idx, (data, _) in enumerate(tqdm_notebook(trainloader)):\n",
    "        optimizer.zero_grad()\n",
    "        mu, log_var, x_out = net(data)\n",
    "        loss = loss_fn(mu, log_var, x_out, data)\n",
    "        loss.backward()\n",
    "        running_loss += loss.item()\n",
    "        optimizer.step()\n",
    "        if batch_idx % (log_interval*6) == 0:\n",
    "            history['train'].append(loss.item()/len(data))\n",
    "    print(\"===> Epoch: {}/{} Average train loss: {:.4f}\".format(epoch, num_epochs, running_loss/len(trainloader.dataset)))\n",
    "    \n",
    "def test(epoch):\n",
    "    net.eval()\n",
    "    running_loss = 0\n",
    "    for batch_idx, (data, _) in enumerate(testloader):\n",
    "        with torch.no_grad():\n",
    "            mu, log_var, x_out = net(data)\n",
    "            loss = loss_fn(mu, log_var, x_out, data)\n",
    "            running_loss += loss.item()\n",
    "            if batch_idx % log_interval == 0:\n",
    "                history['test'].append(loss.item()/len(data))\n",
    "    print(\"===> Test set loss: {:.4f}\".format(running_loss/len(testloader.dataset)))\n",
    "\n",
    "if __name__ == \"__main__\":\n",
    "    num_epochs = 18\n",
    "    log_interval = 50\n",
    "    history = {'train':[], 'test':[]}\n",
    "    hidden_dim = 28\n",
    "    net = VAE(hidden_dim)\n",
    "    optimizer = torch.optim.Adam(params = net.parameters())\n",
    "    for epoch in range(1, num_epochs+1):\n",
    "        train(epoch)\n",
    "        test(epoch)\n",
    "        with torch.no_grad():\n",
    "            sample = torch.randn(64, hidden_dim) # 'output' of the bottleneck\n",
    "            sample = net.decode(sample)\n",
    "            save_image(sample.view(64, 1, 28, 28), 'vae_results/sample_' + str(epoch) + '.png')"
   ]
  },
  {
   "cell_type": "code",
   "execution_count": 97,
   "id": "61fcf930",
   "metadata": {},
   "outputs": [
    {
     "data": {
      "image/png": "[encoded data removed]",
      "text/plain": [
       "<Figure size 720x480 with 1 Axes>"
      ]
     },
     "metadata": {
      "needs_background": "light"
     },
     "output_type": "display_data"
    }
   ],
   "source": [
    "def smooth_curve(points, factor=0.9):\n",
    "    smoothed_points = []\n",
    "    for point in points:\n",
    "        if smoothed_points:\n",
    "            previous = smoothed_points[-1]\n",
    "            smoothed_points.append(previous * factor + point * (1 - factor))\n",
    "        else:\n",
    "            smoothed_points.append(point)\n",
    "    return smoothed_points\n",
    "\n",
    "def forward(x):\n",
    "    return np.array(list(map(lambda t: int(t/10), x)))\n",
    "\n",
    "def inverse(x):\n",
    "    return x * 10\n",
    "\n",
    "def plot_losses(history):\n",
    "    loss_values = smooth_curve(history['train'])\n",
    "    val_loss_values = smooth_curve(history['test'])\n",
    "    epochs = np.arange(len(loss_values))\n",
    "    fig, ax = plt.subplots(1,1,figsize=(6,4), dpi=120)\n",
    "    ax.plot(epochs, loss_values, 'bo', label='Training loss')\n",
    "    ax.plot(epochs, val_loss_values, 'r', label='Validation loss')\n",
    "    epoch = np.arange(1,19)\n",
    "    secax = ax.secondary_xaxis('bottom', functions=(forward, inverse))\n",
    "    secax.set_xlabel('Epochs')\n",
    "    ax.get_xaxis().set_visible(False)\n",
    "  \n",
    "    plt.title('Training and validation loss')\n",
    "    plt.ylabel('Loss')\n",
    "    plt.legend()\n",
    "    plt.show()\n",
    "\n",
    "plot_losses(history)"
   ]
  },
  {
   "cell_type": "code",
   "execution_count": 98,
   "id": "d0f3566f",
   "metadata": {},
   "outputs": [
    {
     "data": {
      "image/png": "[encoded data removed]",
      "text/plain": [
       "<Figure size 1800x432 with 30 Axes>"
      ]
     },
     "metadata": {
      "needs_background": "light"
     },
     "output_type": "display_data"
    }
   ],
   "source": [
    "def example10(model, dataloader):\n",
    "    dataiter = iter(dataloader)\n",
    "    images, labels = dataiter.next()\n",
    "\n",
    "    images_flatten = images.view(images.size(0), -1)\n",
    "    _, __, recon = model(images_flatten)\n",
    "    sample = torch.randn(10, model.hidden_dim)\n",
    "    gen = model.decode(sample)\n",
    "\n",
    "    images = images.numpy()[:10]\n",
    "    recon = recon.view(batch_size, 1, 28, 28).detach().numpy()[:10]\n",
    "    gen = gen.view(10, 1, 28, 28).detach().numpy()\n",
    "\n",
    "    fig, axes = plt.subplots(nrows=3, ncols=10, sharex=True, sharey=True, figsize=(25,6))\n",
    "\n",
    "    for images, row in zip([images, recon, gen], axes):\n",
    "        for img, ax in zip(images, row):\n",
    "            ax.imshow(np.squeeze(img), cmap='binary')\n",
    "            ax.get_xaxis().set_visible(False)\n",
    "            ax.get_yaxis().set_visible(False)\n",
    "            \n",
    "example10(net, testloader)"
   ]
  },
  {
   "cell_type": "markdown",
   "id": "236f100d",
   "metadata": {},
   "source": [
    "## Saving new parameters"
   ]
  },
  {
   "cell_type": "code",
   "execution_count": 15,
   "id": "e312ba11",
   "metadata": {},
   "outputs": [],
   "source": [
    "PATH = \"pretrained/vanilla_vae_mnist.pth\"\n",
    "torch.save({\n",
    "            'epoch': num_epochs,\n",
    "            'model_state_dict': net.state_dict(),\n",
    "            'optimizer_state_dict': optimizer.state_dict(),\n",
    "            'train_loss': history['train'],\n",
    "            'test_loss': history['test'],\n",
    "            }, PATH)"
   ]
  },
  {
   "cell_type": "code",
   "execution_count": 31,
   "id": "d68bce45",
   "metadata": {},
   "outputs": [],
   "source": [
    "x = torch.tensor([[3,4,5],[6,7,9]])"
   ]
  },
  {
   "cell_type": "code",
   "execution_count": 43,
   "id": "2895bdac",
   "metadata": {},
   "outputs": [
    {
     "ename": "ValueError",
     "evalue": "Either `probs` or `logits` must be specified, but not both.",
     "output_type": "error",
     "traceback": [
      "\u001b[1;31m---------------------------------------------------------------------------\u001b[0m",
      "\u001b[1;31mValueError\u001b[0m                                Traceback (most recent call last)",
      "\u001b[1;32m<ipython-input-43-a5172206971c>\u001b[0m in \u001b[0;36m<module>\u001b[1;34m\u001b[0m\n\u001b[1;32m----> 1\u001b[1;33m \u001b[0mmap\u001b[0m\u001b[1;33m(\u001b[0m\u001b[0mx\u001b[0m\u001b[1;33m/\u001b[0m\u001b[1;36m100\u001b[0m\u001b[1;33m,\u001b[0m \u001b[0mD\u001b[0m\u001b[1;33m.\u001b[0m\u001b[0mBernoulli\u001b[0m\u001b[1;33m(\u001b[0m\u001b[1;33m)\u001b[0m\u001b[1;33m)\u001b[0m\u001b[1;33m\u001b[0m\u001b[1;33m\u001b[0m\u001b[0m\n\u001b[0m",
      "\u001b[1;32mC:\\ProgramData\\Anaconda3\\lib\\site-packages\\torch\\distributions\\bernoulli.py\u001b[0m in \u001b[0;36m__init__\u001b[1;34m(self, probs, logits, validate_args)\u001b[0m\n\u001b[0;32m     34\u001b[0m     \u001b[1;32mdef\u001b[0m \u001b[0m__init__\u001b[0m\u001b[1;33m(\u001b[0m\u001b[0mself\u001b[0m\u001b[1;33m,\u001b[0m \u001b[0mprobs\u001b[0m\u001b[1;33m=\u001b[0m\u001b[1;32mNone\u001b[0m\u001b[1;33m,\u001b[0m \u001b[0mlogits\u001b[0m\u001b[1;33m=\u001b[0m\u001b[1;32mNone\u001b[0m\u001b[1;33m,\u001b[0m \u001b[0mvalidate_args\u001b[0m\u001b[1;33m=\u001b[0m\u001b[1;32mNone\u001b[0m\u001b[1;33m)\u001b[0m\u001b[1;33m:\u001b[0m\u001b[1;33m\u001b[0m\u001b[1;33m\u001b[0m\u001b[0m\n\u001b[0;32m     35\u001b[0m         \u001b[1;32mif\u001b[0m \u001b[1;33m(\u001b[0m\u001b[0mprobs\u001b[0m \u001b[1;32mis\u001b[0m \u001b[1;32mNone\u001b[0m\u001b[1;33m)\u001b[0m \u001b[1;33m==\u001b[0m \u001b[1;33m(\u001b[0m\u001b[0mlogits\u001b[0m \u001b[1;32mis\u001b[0m \u001b[1;32mNone\u001b[0m\u001b[1;33m)\u001b[0m\u001b[1;33m:\u001b[0m\u001b[1;33m\u001b[0m\u001b[1;33m\u001b[0m\u001b[0m\n\u001b[1;32m---> 36\u001b[1;33m             \u001b[1;32mraise\u001b[0m \u001b[0mValueError\u001b[0m\u001b[1;33m(\u001b[0m\u001b[1;34m\"Either `probs` or `logits` must be specified, but not both.\"\u001b[0m\u001b[1;33m)\u001b[0m\u001b[1;33m\u001b[0m\u001b[1;33m\u001b[0m\u001b[0m\n\u001b[0m\u001b[0;32m     37\u001b[0m         \u001b[1;32mif\u001b[0m \u001b[0mprobs\u001b[0m \u001b[1;32mis\u001b[0m \u001b[1;32mnot\u001b[0m \u001b[1;32mNone\u001b[0m\u001b[1;33m:\u001b[0m\u001b[1;33m\u001b[0m\u001b[1;33m\u001b[0m\u001b[0m\n\u001b[0;32m     38\u001b[0m             \u001b[0mis_scalar\u001b[0m \u001b[1;33m=\u001b[0m \u001b[0misinstance\u001b[0m\u001b[1;33m(\u001b[0m\u001b[0mprobs\u001b[0m\u001b[1;33m,\u001b[0m \u001b[0mNumber\u001b[0m\u001b[1;33m)\u001b[0m\u001b[1;33m\u001b[0m\u001b[1;33m\u001b[0m\u001b[0m\n",
      "\u001b[1;31mValueError\u001b[0m: Either `probs` or `logits` must be specified, but not both."
     ]
    }
   ],
   "source": [
    "map(x/100, D.Bernoulli())"
   ]
  },
  {
   "cell_type": "code",
   "execution_count": null,
   "id": "9e6ea594",
   "metadata": {},
   "outputs": [],
   "source": []
  }
 ],
 "metadata": {
  "kernelspec": {
   "display_name": "Python 3",
   "language": "python",
   "name": "python3"
  },
  "language_info": {
   "codemirror_mode": {
    "name": "ipython",
    "version": 3
   },
   "file_extension": ".py",
   "mimetype": "text/x-python",
   "name": "python",
   "nbconvert_exporter": "python",
   "pygments_lexer": "ipython3",
   "version": "3.8.8"
  }
 },
 "nbformat": 4,
 "nbformat_minor": 5
}
