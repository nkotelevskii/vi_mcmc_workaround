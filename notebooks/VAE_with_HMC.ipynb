{
 "cells": [
  {
   "cell_type": "code",
   "execution_count": 1,
   "id": "19f78cef",
   "metadata": {},
   "outputs": [],
   "source": [
    "import torch\n",
    "import torch.nn as nn\n",
    "import torch.nn.functional as F\n",
    "import torch.distributions as D\n",
    "import torchvision\n",
    "from tqdm import tqdm_notebook\n",
    "import torchvision.transforms as transforms\n",
    "from torchvision.utils import save_image\n",
    "\n",
    "import numpy as np\n",
    "import matplotlib.pyplot as plt\n",
    "\n",
    "from tqdm import tqdm\n",
    "\n",
    "import pdb\n",
    "\n",
    "%matplotlib inline"
   ]
  },
  {
   "cell_type": "code",
   "execution_count": 2,
   "id": "a9d24b3b",
   "metadata": {},
   "outputs": [],
   "source": [
    "import warnings\n",
    "warnings.filterwarnings('ignore')"
   ]
  },
  {
   "cell_type": "markdown",
   "id": "129bbe0f",
   "metadata": {},
   "source": [
    "## Loading the dataset"
   ]
  },
  {
   "cell_type": "code",
   "execution_count": 3,
   "id": "c2e7340f",
   "metadata": {},
   "outputs": [],
   "source": [
    "batch_size = 20"
   ]
  },
  {
   "cell_type": "code",
   "execution_count": 4,
   "id": "47510a84",
   "metadata": {},
   "outputs": [],
   "source": [
    "transform = transforms.Compose(\n",
    "    [transforms.ToTensor()])\n",
    "\n",
    "trainset = torchvision.datasets.MNIST(root='./data', train=True, download=True, transform=transform)\n",
    "trainloader = torch.utils.data.DataLoader(trainset, batch_size=batch_size, shuffle=True, num_workers=2)\n",
    "\n",
    "testset = torchvision.datasets.MNIST(root='./data', train=False, download=True, transform=transform)\n",
    "testloader = torch.utils.data.DataLoader(testset, batch_size=batch_size, shuffle=True, num_workers=2)\n",
    "\n",
    "class_names = tuple(str(i) for i in range(10))"
   ]
  },
  {
   "cell_type": "code",
   "execution_count": 59,
   "id": "19719f34",
   "metadata": {},
   "outputs": [],
   "source": [
    "transform = transforms.Compose([transforms.ToTensor()])\n",
    "\n",
    "trainset = torchvision.datasets.FashionMNIST(root='./data', train=True, download=True, transform=transform)\n",
    "trainloader = torch.utils.data.DataLoader(trainset, batch_size=batch_size, shuffle=True, num_workers=2)\n",
    "\n",
    "testset = torchvision.datasets.FashionMNIST(root='./data', train=False, download=True, transform=transform)\n",
    "testloader = torch.utils.data.DataLoader(testset, batch_size=batch_size, shuffle=True, num_workers=2)\n",
    "\n",
    "class_names = tuple(str(i) for i in range(10))"
   ]
  },
  {
   "cell_type": "code",
   "execution_count": 5,
   "id": "ea80f922",
   "metadata": {},
   "outputs": [
    {
     "data": {
      "image/png": "[encoded data removed]",
      "text/plain": [
       "<Figure size 1080x720 with 1 Axes>"
      ]
     },
     "metadata": {
      "needs_background": "light"
     },
     "output_type": "display_data"
    }
   ],
   "source": [
    "def imshow(img):\n",
    "    npimg = img.numpy()\n",
    "    plt.imshow(np.transpose(npimg, (1, 2, 0)))\n",
    "\n",
    "dataiter = iter(trainloader)\n",
    "images, labels = dataiter.next()\n",
    "\n",
    "plt.figure(figsize=(15,10))\n",
    "imshow(torchvision.utils.make_grid(images[:10], nrow=10))\n",
    "plt.show()"
   ]
  },
  {
   "cell_type": "code",
   "execution_count": 6,
   "id": "ea84e0d0",
   "metadata": {},
   "outputs": [],
   "source": [
    "device = \"cuda\" if torch.cuda.is_available() else \"cpu\""
   ]
  },
  {
   "cell_type": "code",
   "execution_count": 7,
   "id": "16fbf9f8",
   "metadata": {},
   "outputs": [
    {
     "data": {
      "text/plain": [
       "'cuda'"
      ]
     },
     "execution_count": 7,
     "metadata": {},
     "output_type": "execute_result"
    }
   ],
   "source": [
    "device"
   ]
  },
  {
   "cell_type": "markdown",
   "id": "44022dc0",
   "metadata": {},
   "source": [
    "## Model parameters"
   ]
  },
  {
   "cell_type": "code",
   "execution_count": 8,
   "id": "7b3448ef",
   "metadata": {},
   "outputs": [],
   "source": [
    "device='cpu'"
   ]
  },
  {
   "cell_type": "code",
   "execution_count": 9,
   "id": "7a8401be",
   "metadata": {},
   "outputs": [],
   "source": [
    "class VAE_MCMC(nn.Module): # TODO: new architecture + HMC + no optimizer\n",
    "    def __init__(self, hidden_dim):\n",
    "        super(VAE_MCMC, self).__init__()\n",
    "        \n",
    "        self.hidden_dim = hidden_dim\n",
    "        self.encoder = nn.Sequential(nn.Linear(784,196),\n",
    "                                     nn.Softplus())\n",
    "#                                      nn.Linear(392, 196))\n",
    "#                                      nn.Softplus())\n",
    "        \n",
    "        self.hidden_mu = nn.Linear(196, self.hidden_dim)\n",
    "        self.hidden_log_var = nn.Linear(196, self.hidden_dim)\n",
    "        \n",
    "        self.decoder = nn.Sequential(nn.Linear(self.hidden_dim, 196),\n",
    "                                     nn.Softplus(),\n",
    "                                     nn.Linear(196, 392),\n",
    "                                     nn.Softplus(),\n",
    "                                     nn.Linear(392, 784),\n",
    "                                     nn.Sigmoid())\n",
    "\n",
    "    def encode(self, x):\n",
    "        hidden = self.encoder(x)\n",
    "        mu = self.hidden_mu(hidden)\n",
    "        log_var = self.hidden_log_var(hidden)\n",
    "        return mu, log_var\n",
    "\n",
    "    def reparametrize(self, mu, log_var):\n",
    "        std = torch.exp(0.5 * log_var)\n",
    "        z = torch.randn_like(std) # get normal distribution size of sigma\n",
    "        return mu + z*std\n",
    "    \n",
    "    def decode(self, z):\n",
    "        x = self.decoder(z)\n",
    "        return x\n",
    "    \n",
    "    def forward(self, x):\n",
    "        mu, log_var = self.encode(x.view(-1, 784))\n",
    "        hidden = self.reparametrize(mu, log_var) # bottleneck\n",
    "        output = self.decoder(hidden) # x_out\n",
    "        return mu, log_var, output"
   ]
  },
  {
   "cell_type": "code",
   "execution_count": 10,
   "id": "e00e03b7",
   "metadata": {},
   "outputs": [],
   "source": [
    "def std_normal(mu=None, std=None, dim=784):\n",
    "    loc = mu if mu!=None else torch.zeros(dim, device=device, requires_grad=False)\n",
    "    scale = std if std!=None else torch.ones(dim, device=device, requires_grad=False)\n",
    "    std_normal = torch.distributions.Normal(loc=loc, scale=scale)\n",
    "    return std_normal"
   ]
  },
  {
   "cell_type": "code",
   "execution_count": 11,
   "id": "9f5d654f",
   "metadata": {},
   "outputs": [],
   "source": [
    "def log_prob_density(x_out, x, dim=784):\n",
    "    loss = F.binary_cross_entropy(x_out, x.view(-1, dim), reduction='none')\n",
    "    return loss # vector"
   ]
  },
  {
   "cell_type": "code",
   "execution_count": 12,
   "id": "aa773644",
   "metadata": {},
   "outputs": [],
   "source": [
    "def loss_fn(mu, log_var, x_out, x):\n",
    "    kl_loss = -0.5 * torch.sum( 1 + log_var - mu**2 - torch.exp(log_var))\n",
    "    recon_loss = F.binary_cross_entropy(x_out, x.view(-1, 784), reduction='sum')\n",
    "    loss = recon_loss + kl_loss\n",
    "    return loss"
   ]
  },
  {
   "cell_type": "code",
   "execution_count": 18,
   "id": "aca1a134",
   "metadata": {},
   "outputs": [],
   "source": [
    "def HMC(current_z, x, epsilon, L): # U(z) = -logp(z,x)\n",
    "    current_z.requires_grad_(True)\n",
    "    z = current_z\n",
    "    r = torch.randn_like(z)\n",
    "    current_r = r\n",
    "    U = torch.sum(log_prob_density(net2.decode(z), x).sum(1) - std_normal(dim=z.shape[1]).log_prob(z).sum(1))\n",
    "    r = r + 0.5 * epsilon * torch.autograd.grad(U, z)[0]\n",
    "    for i in range(L):\n",
    "        z = z + epsilon * r\n",
    "#         pdb.set_trace()\n",
    "#         print(\"===> {}/{} leapfrog\".format(i+1, L))\n",
    "        U = torch.sum(log_prob_density(net2.decode(z), x).sum(1) - std_normal(dim=z.shape[1]).log_prob(z).sum(1))\n",
    "        if i!=L-1: r = r + epsilon * torch.autograd.grad(U, z)[0]\n",
    "                                \n",
    "    current_U = log_prob_density(net2.decode(current_z), x).sum(1) +\\\n",
    "                std_normal(dim=current_z.shape[1]).log_prob(current_z).sum(1)\n",
    "    current_K = ((current_r**2) / 2).sum(1)\n",
    "\n",
    "    proposed_U = log_prob_density(net2.decode(z), x).sum(1) +\\\n",
    "                 std_normal(dim=z.shape[1]).log_prob(z).sum(1)\n",
    "    proposed_K = ((r**2) / 2).sum(1)\n",
    "    \n",
    "    # Metropolis\n",
    "    u = D.uniform.Uniform(0,1).sample((batch_size,))\n",
    "    zfilter = torch.ones(batch_size,1, device=device, requires_grad=False)\n",
    "    for i in range(batch_size):\n",
    "        if u[i] > torch.exp(current_U-proposed_U+current_K-proposed_K)[i]:\n",
    "            zfilter[i] = 0.0\n",
    "    result = zfilter * z.detach() + (1-zfilter) * current_z.detach()\n",
    "    return result"
   ]
  },
  {
   "cell_type": "markdown",
   "id": "c42b8d26",
   "metadata": {},
   "source": [
    "## Train and test"
   ]
  },
  {
   "cell_type": "code",
   "execution_count": 19,
   "id": "a764bbe5",
   "metadata": {},
   "outputs": [
    {
     "data": {
      "application/vnd.jupyter.widget-view+json": {
       "model_id": "3e203e9eeade4299871009b41bdd65af",
       "version_major": 2,
       "version_minor": 0
      },
      "text/plain": [
       "  0%|          | 0/3000 [00:00<?, ?it/s]"
      ]
     },
     "metadata": {},
     "output_type": "display_data"
    },
    {
     "name": "stdout",
     "output_type": "stream",
     "text": [
      "===> Epoch: 1/10 Average train loss: 134.5913\n",
      "===> Test set loss: 115.3580\n"
     ]
    },
    {
     "data": {
      "application/vnd.jupyter.widget-view+json": {
       "model_id": "3c326357e7ba4304b1590c981f694a8e",
       "version_major": 2,
       "version_minor": 0
      },
      "text/plain": [
       "  0%|          | 0/3000 [00:00<?, ?it/s]"
      ]
     },
     "metadata": {},
     "output_type": "display_data"
    },
    {
     "name": "stdout",
     "output_type": "stream",
     "text": [
      "===> Epoch: 2/10 Average train loss: 112.6718\n",
      "===> Test set loss: 110.1774\n"
     ]
    },
    {
     "data": {
      "application/vnd.jupyter.widget-view+json": {
       "model_id": "11cff10de2a443df9c4c067f7aa0846b",
       "version_major": 2,
       "version_minor": 0
      },
      "text/plain": [
       "  0%|          | 0/3000 [00:00<?, ?it/s]"
      ]
     },
     "metadata": {},
     "output_type": "display_data"
    },
    {
     "name": "stdout",
     "output_type": "stream",
     "text": [
      "===> Epoch: 3/10 Average train loss: 109.2518\n",
      "===> Test set loss: 108.3355\n"
     ]
    },
    {
     "data": {
      "application/vnd.jupyter.widget-view+json": {
       "model_id": "386ff18070df4fd59444fac945b897b9",
       "version_major": 2,
       "version_minor": 0
      },
      "text/plain": [
       "  0%|          | 0/3000 [00:00<?, ?it/s]"
      ]
     },
     "metadata": {},
     "output_type": "display_data"
    },
    {
     "name": "stdout",
     "output_type": "stream",
     "text": [
      "===> Epoch: 4/10 Average train loss: 107.2912\n",
      "===> Test set loss: 106.7004\n"
     ]
    },
    {
     "data": {
      "application/vnd.jupyter.widget-view+json": {
       "model_id": "41d00e087b994806bab896db85cd5236",
       "version_major": 2,
       "version_minor": 0
      },
      "text/plain": [
       "  0%|          | 0/3000 [00:00<?, ?it/s]"
      ]
     },
     "metadata": {},
     "output_type": "display_data"
    },
    {
     "name": "stdout",
     "output_type": "stream",
     "text": [
      "===> Epoch: 5/10 Average train loss: 105.9422\n",
      "===> Test set loss: 105.5971\n"
     ]
    },
    {
     "data": {
      "application/vnd.jupyter.widget-view+json": {
       "model_id": "25cb44ef2e2c42ba93fc25070005ae8e",
       "version_major": 2,
       "version_minor": 0
      },
      "text/plain": [
       "  0%|          | 0/3000 [00:00<?, ?it/s]"
      ]
     },
     "metadata": {},
     "output_type": "display_data"
    },
    {
     "name": "stdout",
     "output_type": "stream",
     "text": [
      "===> Epoch: 6/10 Average train loss: 105.0763\n",
      "===> Test set loss: 104.8756\n"
     ]
    },
    {
     "data": {
      "application/vnd.jupyter.widget-view+json": {
       "model_id": "5d1922cf2c004f68a5799a2ade86ad58",
       "version_major": 2,
       "version_minor": 0
      },
      "text/plain": [
       "  0%|          | 0/3000 [00:00<?, ?it/s]"
      ]
     },
     "metadata": {},
     "output_type": "display_data"
    },
    {
     "name": "stdout",
     "output_type": "stream",
     "text": [
      "===> Epoch: 7/10 Average train loss: 104.4504\n",
      "===> Test set loss: 104.3046\n"
     ]
    },
    {
     "data": {
      "application/vnd.jupyter.widget-view+json": {
       "model_id": "6a656cc080c14a968c3cda9b2c84183c",
       "version_major": 2,
       "version_minor": 0
      },
      "text/plain": [
       "  0%|          | 0/3000 [00:00<?, ?it/s]"
      ]
     },
     "metadata": {},
     "output_type": "display_data"
    },
    {
     "name": "stdout",
     "output_type": "stream",
     "text": [
      "===> Epoch: 8/10 Average train loss: 103.9043\n",
      "===> Test set loss: 104.1009\n"
     ]
    },
    {
     "data": {
      "application/vnd.jupyter.widget-view+json": {
       "model_id": "4eab05a58b484828a5657a23a38855f6",
       "version_major": 2,
       "version_minor": 0
      },
      "text/plain": [
       "  0%|          | 0/3000 [00:00<?, ?it/s]"
      ]
     },
     "metadata": {},
     "output_type": "display_data"
    },
    {
     "name": "stdout",
     "output_type": "stream",
     "text": [
      "===> Epoch: 9/10 Average train loss: 103.4485\n",
      "===> Test set loss: 104.1583\n"
     ]
    },
    {
     "data": {
      "application/vnd.jupyter.widget-view+json": {
       "model_id": "ee1ef4f68e8f4e50bc67f18357cd3967",
       "version_major": 2,
       "version_minor": 0
      },
      "text/plain": [
       "  0%|          | 0/3000 [00:00<?, ?it/s]"
      ]
     },
     "metadata": {},
     "output_type": "display_data"
    },
    {
     "name": "stdout",
     "output_type": "stream",
     "text": [
      "===> Epoch: 10/10 Average train loss: 103.0603\n",
      "===> Test set loss: 103.5138\n"
     ]
    }
   ],
   "source": [
    "def train(epoch, epsilon):\n",
    "    torch.autograd.set_detect_anomaly(True)\n",
    "    net2.train()\n",
    "    running_loss = 0\n",
    "    L = int(torch.linalg.norm(epsilon).item()) # leapfrog steps for HMC\n",
    "#    L = 1\n",
    "    for batch_idx, (data, _) in enumerate(tqdm_notebook(trainloader)):       \n",
    "        optimizer.zero_grad()\n",
    "        mu, log_var, x_out = net2(data)\n",
    "             \n",
    "        epsilon = epsilon * torch.sqrt(torch.exp(log_var).mean(0))\n",
    "        z = net2.reparametrize(mu, log_var)\n",
    "\n",
    "        loss = loss_fn(mu, log_var, x_out, data)\n",
    "        loss.backward()\n",
    "\n",
    "        with torch.no_grad():\n",
    "            for l in [net2.decoder]:#, net2.hidden_mu, net2.hidden_log_var]:\n",
    "                if hasattr(l, 'weight'):\n",
    "                    l.weight.grad = None\n",
    "                    l.bias.grad = None\n",
    "#             for l in [net2.encoder, net2.hidden_mu, net2.hidden_log_var]:\n",
    "#                 if hasattr(l, 'weight'):  # optimizer step\n",
    "#                     l.weight -= l.weight.grad*lr\n",
    "#                     l.bias -= l.bias.grad*lr\n",
    "#                     l.weight.grad.zero_()\n",
    "#                     l.bias.grad.zero_()\n",
    "        optimizer.step()\n",
    "        optimizer.zero_grad()\n",
    "        \n",
    "#         for p in net2.decoder.parameters(): \n",
    "#             p.requires_grad_(False)\n",
    "            \n",
    "        for m in range(M):\n",
    "#             print(\"{}/{} HMC iteration\".format(m+1,M))\n",
    "            z = HMC(z, data, epsilon, L)\n",
    "#             pdb.set_trace()\n",
    "\n",
    "#         for p in net2.decoder.parameters(): \n",
    "#             p.requires_grad_(True)\n",
    "        \n",
    "        loss = loss_fn(mu.detach(), log_var.detach(), net2.decode(z), data)\n",
    "        loss.backward()\n",
    "        \n",
    "        with torch.no_grad():\n",
    "            for l in [net2.encoder, net2.hidden_mu, net2.hidden_log_var]:\n",
    "                if hasattr(l, 'weight'):\n",
    "                    l.weight.grad = None\n",
    "                    l.bias.grad = None\n",
    "#             for l in [net2.decoder]:#, net2.hidden_mu, net2.hidden_log_var]:\n",
    "#                 if hasattr(l, 'weight'):\n",
    "#                     l.weight -= l.weight.grad*lr\n",
    "#                     l.bias -= l.bias.grad*lr\n",
    "#                     l.weight.grad.zero_()\n",
    "#                     l.bias.grad.zero_()\n",
    "        optimizer.step()\n",
    "        optimizer.zero_grad()\n",
    "        \n",
    "        running_loss += loss.item()\n",
    "        if batch_idx % (log_interval*6) == 0:\n",
    "            history['train'].append(loss.item()/len(data))\n",
    "                         \n",
    "    print(\"===> Epoch: {}/{} Average train loss: {:.4f}\".format(epoch, num_epochs, running_loss/len(trainloader.dataset)))\n",
    "    \n",
    "def test(epoch):\n",
    "    net2.eval()\n",
    "    running_loss = 0\n",
    "    for batch_idx, (data, _) in enumerate(testloader):\n",
    "        with torch.no_grad():\n",
    "            mu, log_var, x_out = net2(data)\n",
    "            loss = loss_fn(mu, log_var, x_out, data)\n",
    "            running_loss += loss.item()\n",
    "            if batch_idx % log_interval == 0:\n",
    "                history['test'].append(loss.item()/len(data))\n",
    "    print(\"===> Test set loss: {:.4f}\".format(running_loss/len(testloader.dataset)))\n",
    "\n",
    "if __name__ == \"__main__\":\n",
    "    hidden_dim = 24\n",
    "    net2 = VAE_MCMC(hidden_dim)\n",
    "    optimizer = torch.optim.Adam(net2.parameters())\n",
    "    num_epochs = 10\n",
    "    log_interval = 50\n",
    "    history = {'train':[], 'test':[]}\n",
    "    epsilon = torch.tensor([0.3]*hidden_dim)\n",
    "    lr=0.001\n",
    "    M=1 \n",
    "    for epoch in range(1, num_epochs+1):\n",
    "        train(epoch,epsilon)\n",
    "        test(epoch)\n",
    "        with torch.no_grad():\n",
    "            sample = torch.randn(64, hidden_dim) # 'output' of the bottleneck\n",
    "            sample = net2.decode(sample)\n",
    "            save_image(sample.view(64, 1, 28, 28), 'vae_results/sample_hmc_' + str(epoch) + '.png')"
   ]
  },
  {
   "cell_type": "markdown",
   "id": "b7221924",
   "metadata": {},
   "source": [
    "## Results"
   ]
  },
  {
   "cell_type": "code",
   "execution_count": 76,
   "id": "b4bbe622",
   "metadata": {},
   "outputs": [],
   "source": [
    "# hidden_dim = 24\n",
    "# net = VAE_MCMC(hidden_dim)\n",
    "# optimizer = torch.optim.Adam(params = net.parameters())\n",
    "# # lr_scheduler = torch.optim.lr_scheduler.StepLR(optimizer=optimizer, step_size=100, gamma=0.75)\n",
    "# history = {'train':[], 'test':[]}\n",
    "\n",
    "# PATH = \"pretrained/vae_with_hmc_mnist.pth\"\n",
    "# checkpoint = torch.load(PATH)\n",
    "# net.load_state_dict(checkpoint['model_state_dict'])\n",
    "# optimizer.load_state_dict(checkpoint['optimizer_state_dict'])\n",
    "# history['train'] = checkpoint['train_loss']\n",
    "# history['test'] = checkpoint['test_loss']\n",
    "\n",
    "# net.eval()"
   ]
  },
  {
   "cell_type": "code",
   "execution_count": 24,
   "id": "c5916218",
   "metadata": {},
   "outputs": [
    {
     "data": {
      "image/png": "[encoded data removed]",
      "text/plain": [
       "<Figure size 720x480 with 1 Axes>"
      ]
     },
     "metadata": {
      "needs_background": "light"
     },
     "output_type": "display_data"
    }
   ],
   "source": [
    "def smooth_curve(points, factor=0.9):\n",
    "    smoothed_points = []\n",
    "    for point in points:\n",
    "        if smoothed_points:\n",
    "            previous = smoothed_points[-1]\n",
    "            smoothed_points.append(previous * factor + point * (1 - factor))\n",
    "        else:\n",
    "            smoothed_points.append(point)\n",
    "    return smoothed_points\n",
    "\n",
    "def forward(x):\n",
    "    return np.array(list(map(lambda t: int(t/10), x)))\n",
    "\n",
    "def inverse(x):\n",
    "    return x * 10\n",
    "\n",
    "def plot_losses(history):\n",
    "    loss_values = smooth_curve(history['train'])\n",
    "    val_loss_values = smooth_curve(history['test'])\n",
    "    epochs = np.arange(len(loss_values))\n",
    "    fig, ax = plt.subplots(1,1,figsize=(6,4), dpi=120)\n",
    "    ax.plot(epochs, loss_values, 'bo', label='Training loss')\n",
    "    ax.plot(epochs, val_loss_values, 'r', label='Validation loss')\n",
    "    epoch = np.arange(1,19)\n",
    "    secax = ax.secondary_xaxis('bottom', functions=(forward, inverse))\n",
    "    secax.set_xlabel('Epochs')\n",
    "    ax.get_xaxis().set_visible(False)\n",
    "  \n",
    "    plt.title('Training and validation loss')\n",
    "    plt.ylabel('Loss')\n",
    "    plt.legend()\n",
    "    plt.show()\n",
    "\n",
    "plot_losses(history)"
   ]
  },
  {
   "cell_type": "code",
   "execution_count": 22,
   "id": "f0ffdc57",
   "metadata": {},
   "outputs": [
    {
     "data": {
      "image/png": "[encoded data removed]",
      "text/plain": [
       "<Figure size 1800x432 with 30 Axes>"
      ]
     },
     "metadata": {
      "needs_background": "light"
     },
     "output_type": "display_data"
    }
   ],
   "source": [
    "def example10(model, dataloader):\n",
    "    dataiter = iter(dataloader)\n",
    "    images, labels = dataiter.next()\n",
    "\n",
    "    images_flatten = images.view(images.size(0), -1)\n",
    "    _, __, recon = model(images_flatten)\n",
    "    sample = torch.randn(10, model.hidden_dim)\n",
    "    gen = model.decode(sample)\n",
    "\n",
    "    images = images.numpy()[:10]\n",
    "    recon = recon.view(batch_size, 1, 28, 28).detach().numpy()[:10]\n",
    "    gen = gen.view(10, 1, 28, 28).detach().numpy()\n",
    "\n",
    "    fig, axes = plt.subplots(nrows=3, ncols=10, sharex=True, sharey=True, figsize=(25,6))\n",
    "\n",
    "    for images, row in zip([images, recon, gen], axes):\n",
    "        for img, ax in zip(images, row):\n",
    "            ax.imshow(np.squeeze(img), cmap='binary')\n",
    "            ax.get_xaxis().set_visible(False)\n",
    "            ax.get_yaxis().set_visible(False)\n",
    "            \n",
    "example10(net2, testloader)"
   ]
  },
  {
   "cell_type": "markdown",
   "id": "be0a9d1a",
   "metadata": {},
   "source": [
    "## Saving trained model"
   ]
  },
  {
   "cell_type": "code",
   "execution_count": 74,
   "id": "87149b50",
   "metadata": {},
   "outputs": [],
   "source": [
    "PATH = \"pretrained/vae_with_hmc_fashionmnist.pth\"\n",
    "torch.save({\n",
    "            'epoch': num_epochs,\n",
    "            'model_state_dict': net2.state_dict(),\n",
    "            'optimizer_state_dict': optimizer.state_dict(),\n",
    "            'train_loss': history['train'],\n",
    "            'test_loss': history['test'],\n",
    "            }, PATH)"
   ]
  },
  {
   "cell_type": "code",
   "execution_count": null,
   "id": "c11d2c74",
   "metadata": {},
   "outputs": [],
   "source": []
  }
 ],
 "metadata": {
  "kernelspec": {
   "display_name": "Python 3",
   "language": "python",
   "name": "python3"
  },
  "language_info": {
   "codemirror_mode": {
    "name": "ipython",
    "version": 3
   },
   "file_extension": ".py",
   "mimetype": "text/x-python",
   "name": "python",
   "nbconvert_exporter": "python",
   "pygments_lexer": "ipython3",
   "version": "3.8.8"
  }
 },
 "nbformat": 4,
 "nbformat_minor": 5
}
