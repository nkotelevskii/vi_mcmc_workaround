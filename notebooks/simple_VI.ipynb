{
 "cells": [
  {
   "cell_type": "code",
   "execution_count": 1,
   "metadata": {},
   "outputs": [],
   "source": [
    "import torch\n",
    "import torch.nn as nn\n",
    "\n",
    "import matplotlib.pyplot as plt\n",
    "\n",
    "from tqdm import tqdm\n",
    "import pdb\n",
    "\n",
    "%matplotlib inline"
   ]
  },
  {
   "cell_type": "code",
   "execution_count": 2,
   "metadata": {},
   "outputs": [],
   "source": [
    "device = \"cpu\" if torch.cuda.is_available() else \"cuda:0\" # если у тебя только CPU, то автоматически device = 'cpu'"
   ]
  },
  {
   "cell_type": "markdown",
   "metadata": {},
   "source": [
    "## Define target density"
   ]
  },
  {
   "cell_type": "code",
   "execution_count": 3,
   "metadata": {},
   "outputs": [],
   "source": [
    "class Correlated_gaussian():\n",
    "    '''\n",
    "    This class defines correlated gaussian target (2d)\n",
    "    '''\n",
    "    def __init__(self, mu, covar):\n",
    "        self.distr = torch.distributions.MultivariateNormal(loc=mu, covariance_matrix=covar)\n",
    "        \n",
    "    def get_logdensity(self, z): # оцениваем log_density в z\n",
    "        return self.distr.log_prob(z)\n",
    "    \n",
    "    def get_samples(self, N): # N - сколько семплов нужно\n",
    "        return self.distr.sample((N, )) # аргументом должен быть iterable"
   ]
  },
  {
   "cell_type": "code",
   "execution_count": 4,
   "metadata": {},
   "outputs": [],
   "source": [
    "## Option 1\n",
    "mu = torch.tensor([10., 3.], device=device, dtype=torch.float32) # тензор -- это объект данных, с которым работает pytorch\n",
    "covar = torch.tensor([[1., 0.95], [0.95, 1.]], device=device, dtype=torch.float32)\n",
    "\n",
    "# ## Option 2\n",
    "# mu = torch.tensor([10., 3.], device=device, dtype=torch.float32) # тензор -- это объект данных, с которым работает pytorch\n",
    "# covar = torch.tensor([[1., 0.], [0., 1.]], device=device, dtype=torch.float32)"
   ]
  },
  {
   "cell_type": "code",
   "execution_count": 5,
   "metadata": {},
   "outputs": [],
   "source": [
    "target = Correlated_gaussian(mu, covar)"
   ]
  },
  {
   "cell_type": "markdown",
   "metadata": {},
   "source": [
    "## Plot samples from the target"
   ]
  },
  {
   "cell_type": "code",
   "execution_count": 6,
   "metadata": {},
   "outputs": [
    {
     "data": {
      "image/png": "[encoded data removed]",
      "text/plain": [
       "<Figure size 1000x500 with 1 Axes>"
      ]
     },
     "metadata": {
      "needs_background": "light"
     },
     "output_type": "display_data"
    }
   ],
   "source": [
    "samples = target.get_samples(5000).cpu().numpy()\n",
    "\n",
    "plt.figure(figsize=(10, 5), dpi=100)\n",
    "plt.title('Target samples')\n",
    "plt.axis('equal')\n",
    "plt.scatter(samples[:, 0], samples[:, 1]);"
   ]
  },
  {
   "cell_type": "markdown",
   "metadata": {},
   "source": [
    "## Variational inference"
   ]
  },
  {
   "cell_type": "markdown",
   "metadata": {},
   "source": [
    "Мы выберем простое вариационное распределение: mean-field gaussian\n",
    "\n",
    "Оно параметризуется двумя векторами -- вектор средних и вектор стандартных отклонений."
   ]
  },
  {
   "cell_type": "code",
   "execution_count": 12,
   "metadata": {},
   "outputs": [],
   "source": [
    "# torch.nn.Parameter -- это объект, который далее передается в оптимизатор, по параметрами после производится оптимизация\n",
    "mu_param = nn.Parameter(torch.tensor([0., 0.], device=device, dtype=torch.float32))\n",
    "\n",
    "# обрати внимание, что это std_raw. Std должен быть >0, поэтому мы будем оптимизировать \"сырой\" вектор,\n",
    "# который каждый раз будем подставлять в экспоненту\n",
    "\n",
    "# то есть стартовые параметры, mu_param = 0, 0; std = exp(std_param_raw) = 1, 1\n",
    "std_param_raw = nn.Parameter(torch.tensor([0., 0.], device=device, dtype=torch.float32)) \n",
    "\n",
    "optimizer = torch.optim.Adam(params=[mu_param, std_param_raw],\n",
    "                            lr=1e-2) # добавляем параметры в оптимайзер\n",
    "lr_scheduler = torch.optim.lr_scheduler.StepLR(optimizer=optimizer, step_size=100, gamma=0.75)\n",
    "\n",
    "\n",
    "# стандартное нормальное распределение нужно нам для reparametrization trick (будет в статье про VAE)\n",
    "std_normal = torch.distributions.Normal(loc=torch.tensor(0., device=device, dtype=torch.float32),\n",
    "                                       scale=torch.tensor(1., device=device, dtype=torch.float32))"
   ]
  },
  {
   "cell_type": "code",
   "execution_count": 13,
   "metadata": {},
   "outputs": [],
   "source": [
    "batch_size = 1000\n",
    "num_batches = 10000"
   ]
  },
  {
   "cell_type": "markdown",
   "metadata": {},
   "source": [
    "KL$(q_{\\phi}(z)\\|p(z)) = \\int_z q_{\\phi}(z)\\log\\frac{q_{\\phi}(z)}{p(z)} dz = E_{q_{\\phi}(z)}\\log q_{\\phi}(z) - E _{q_{\\phi}(z)}\\log p(z)$"
   ]
  },
  {
   "cell_type": "markdown",
   "metadata": {},
   "source": [
    "Оценки мат.ожиданий из формулы выше будем брать методом Монте-Карло, то есть с помощью семплов"
   ]
  },
  {
   "cell_type": "code",
   "execution_count": 14,
   "metadata": {},
   "outputs": [
    {
     "name": "stderr",
     "output_type": "stream",
     "text": [
      "  3%|▎         | 317/10000 [00:00<00:06, 1578.61it/s]"
     ]
    },
    {
     "name": "stdout",
     "output_type": "stream",
     "text": [
      "Current value of KL at batch number 0 is 270.6822204589844\n"
     ]
    },
    {
     "name": "stderr",
     "output_type": "stream",
     "text": [
      " 13%|█▎        | 1264/10000 [00:00<00:05, 1567.42it/s]"
     ]
    },
    {
     "name": "stdout",
     "output_type": "stream",
     "text": [
      "Current value of KL at batch number 1000 is 18.369070053100586\n"
     ]
    },
    {
     "name": "stderr",
     "output_type": "stream",
     "text": [
      " 22%|██▏       | 2212/10000 [00:01<00:04, 1575.72it/s]"
     ]
    },
    {
     "name": "stdout",
     "output_type": "stream",
     "text": [
      "Current value of KL at batch number 2000 is 9.89356803894043\n"
     ]
    },
    {
     "name": "stderr",
     "output_type": "stream",
     "text": [
      " 32%|███▏      | 3160/10000 [00:02<00:04, 1567.21it/s]"
     ]
    },
    {
     "name": "stdout",
     "output_type": "stream",
     "text": [
      "Current value of KL at batch number 3000 is 3.7811338901519775\n"
     ]
    },
    {
     "name": "stderr",
     "output_type": "stream",
     "text": [
      " 43%|████▎     | 4267/10000 [00:02<00:03, 1577.17it/s]"
     ]
    },
    {
     "name": "stdout",
     "output_type": "stream",
     "text": [
      "Current value of KL at batch number 4000 is 1.50180983543396\n"
     ]
    },
    {
     "name": "stderr",
     "output_type": "stream",
     "text": [
      " 52%|█████▏    | 5214/10000 [00:03<00:03, 1570.37it/s]"
     ]
    },
    {
     "name": "stdout",
     "output_type": "stream",
     "text": [
      "Current value of KL at batch number 5000 is 1.1795636415481567\n"
     ]
    },
    {
     "name": "stderr",
     "output_type": "stream",
     "text": [
      " 62%|██████▏   | 6162/10000 [00:03<00:02, 1575.89it/s]"
     ]
    },
    {
     "name": "stdout",
     "output_type": "stream",
     "text": [
      "Current value of KL at batch number 6000 is 1.178065299987793\n"
     ]
    },
    {
     "name": "stderr",
     "output_type": "stream",
     "text": [
      " 73%|███████▎  | 7267/10000 [00:04<00:01, 1568.27it/s]"
     ]
    },
    {
     "name": "stdout",
     "output_type": "stream",
     "text": [
      "Current value of KL at batch number 7000 is 1.1511882543563843\n"
     ]
    },
    {
     "name": "stderr",
     "output_type": "stream",
     "text": [
      " 82%|████████▏ | 8215/10000 [00:05<00:01, 1527.68it/s]"
     ]
    },
    {
     "name": "stdout",
     "output_type": "stream",
     "text": [
      "Current value of KL at batch number 8000 is 1.1417555809020996\n"
     ]
    },
    {
     "name": "stderr",
     "output_type": "stream",
     "text": [
      " 93%|█████████▎| 9314/10000 [00:05<00:00, 1562.36it/s]"
     ]
    },
    {
     "name": "stdout",
     "output_type": "stream",
     "text": [
      "Current value of KL at batch number 9000 is 1.1895039081573486\n"
     ]
    },
    {
     "name": "stderr",
     "output_type": "stream",
     "text": [
      "100%|██████████| 10000/10000 [00:06<00:00, 1567.82it/s]\n"
     ]
    }
   ],
   "source": [
    "for i in tqdm(range(num_batches)):\n",
    "    u = std_normal.sample((batch_size, 2)) # это пригодится для reparametrization trick\n",
    "    \n",
    "    # Берем семплы из вариационного распределения:\n",
    "    std = torch.exp(std_param_raw)\n",
    "    z = mu_param + u * std # собственно, вот этот trick. Можешь пока думать об этом так, что градиент через\n",
    "                                                # случайные ноды в графе не распространяется\n",
    "    ## посчитали KL по формуле выше\n",
    "    KL = -torch.sum(std_param_raw) + std_normal.log_prob(u).sum(1).mean() - target.get_logdensity(z).mean()\n",
    "    \n",
    "    # А дальше просто минимизируем KL:\n",
    "    KL.backward()\n",
    "    optimizer.step()\n",
    "    optimizer.zero_grad()\n",
    "    \n",
    "    if i % 1000 == 0:\n",
    "        print(f\"Current value of KL at batch number {i} is {KL.cpu().detach().numpy()}\")"
   ]
  },
  {
   "cell_type": "code",
   "execution_count": null,
   "metadata": {},
   "outputs": [],
   "source": []
  },
  {
   "cell_type": "markdown",
   "metadata": {},
   "source": [
    "### Plot both: samples from variational family and target"
   ]
  },
  {
   "cell_type": "code",
   "execution_count": 15,
   "metadata": {},
   "outputs": [
    {
     "data": {
      "image/png": "[encoded data removed]",
      "text/plain": [
       "<Figure size 1000x500 with 1 Axes>"
      ]
     },
     "metadata": {
      "needs_background": "light"
     },
     "output_type": "display_data"
    }
   ],
   "source": [
    "N = 5000\n",
    "\n",
    "u = std_normal.sample((N, 2)) # это пригодится для reparametrization trick\n",
    "with torch.no_grad():\n",
    "    std = torch.exp(std_param_raw)\n",
    "    sample_varfamily = mu_param + u * std # собственно, вот этот trick. Можешь пока думать об этом так, что градиент через\n",
    "    \n",
    "samples_target = target.get_samples(N).cpu().numpy()\n",
    "\n",
    "plt.figure(figsize=(10, 5), dpi=100)\n",
    "plt.title('Samples')\n",
    "plt.scatter(samples_target[:, 0], samples_target[:, 1], label='Target')\n",
    "plt.scatter(sample_varfamily[:, 0], sample_varfamily[:, 1], label='VI')\n",
    "plt.axis('equal')\n",
    "plt.legend();"
   ]
  },
  {
   "cell_type": "code",
   "execution_count": null,
   "metadata": {},
   "outputs": [],
   "source": []
  },
  {
   "cell_type": "code",
   "execution_count": null,
   "metadata": {},
   "outputs": [],
   "source": []
  },
  {
   "cell_type": "code",
   "execution_count": 16,
   "metadata": {},
   "outputs": [],
   "source": [
    "#### TODO: Добавь VI, таргетом для которого будет смесь двух гауссиан\n",
    "\n",
    "# class GMM():\n",
    "#     '''\n",
    "#     This class defines GMM (Gaussian Mixture Model) target (2d)\n",
    "#     '''\n",
    "#     def __init__(self, mus, covars):\n",
    "#         self.mus = ...\n",
    "#         self.covars = ...\n",
    "        \n",
    "#     def get_logdensity(self, z): # оцениваем log_density в z\n",
    "#         return ...\n",
    "    \n",
    "#     def get_samples(self, N): # N - сколько семплов нужно\n",
    "#         return ..."
   ]
  },
  {
   "cell_type": "code",
   "execution_count": null,
   "metadata": {},
   "outputs": [],
   "source": []
  }
 ],
 "metadata": {
  "kernelspec": {
   "display_name": "Condatorch",
   "language": "python",
   "name": "condatorch"
  },
  "language_info": {
   "codemirror_mode": {
    "name": "ipython",
    "version": 3
   },
   "file_extension": ".py",
   "mimetype": "text/x-python",
   "name": "python",
   "nbconvert_exporter": "python",
   "pygments_lexer": "ipython3",
   "version": "3.8.6"
  }
 },
 "nbformat": 4,
 "nbformat_minor": 4
}
