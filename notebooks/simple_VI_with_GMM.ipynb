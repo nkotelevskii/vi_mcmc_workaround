{
 "cells": [
  {
   "cell_type": "code",
   "execution_count": 359,
   "metadata": {},
   "outputs": [],
   "source": [
    "import torch\n",
    "import torch.nn as nn\n",
    "import numpy as np\n",
    "\n",
    "import matplotlib.pyplot as plt\n",
    "\n",
    "from tqdm import tqdm\n",
    "import pdb\n",
    "\n",
    "%matplotlib inline"
   ]
  },
  {
   "cell_type": "code",
   "execution_count": 360,
   "metadata": {},
   "outputs": [],
   "source": [
    "device = \"cpu\" if torch.cuda.is_available() else \"cuda:0\" # если у тебя только CPU, то автоматически device = 'cpu'"
   ]
  },
  {
   "cell_type": "code",
   "execution_count": 361,
   "metadata": {},
   "outputs": [],
   "source": [
    "device='cpu'"
   ]
  },
  {
   "cell_type": "markdown",
   "metadata": {},
   "source": [
    "## Define target density"
   ]
  },
  {
   "cell_type": "code",
   "execution_count": 362,
   "metadata": {},
   "outputs": [],
   "source": [
    "class Correlated_gaussian():\n",
    "    '''\n",
    "    This class defines correlated gaussian target (2d)\n",
    "    '''\n",
    "    def __init__(self, mu, covar):\n",
    "        self.distr = torch.distributions.MultivariateNormal(loc=mu, covariance_matrix=covar)\n",
    "        \n",
    "    def get_logdensity(self, z): # оцениваем log_density в z\n",
    "        return self.distr.log_prob(z)\n",
    "    \n",
    "    def get_samples(self, N): # N - сколько семплов нужно\n",
    "        return self.distr.sample((N, )) # аргументом должен быть iterable"
   ]
  },
  {
   "cell_type": "code",
   "execution_count": 363,
   "metadata": {},
   "outputs": [],
   "source": [
    "## Option 1\n",
    "mu = torch.tensor([10., 3.], device=device, dtype=torch.float32) # тензор -- это объект данных, с которым работает pytorch\n",
    "covar = torch.tensor([[1., 0.95], [0.95, 1.]], device=device, dtype=torch.float32)\n",
    "\n",
    "# ## Option 2\n",
    "# mu = torch.tensor([10., 3.], device=device, dtype=torch.float32) # тензор -- это объект данных, с которым работает pytorch\n",
    "# covar = torch.tensor([[1., 0.], [0., 1.]], device=device, dtype=torch.float32)"
   ]
  },
  {
   "cell_type": "code",
   "execution_count": 364,
   "metadata": {},
   "outputs": [],
   "source": [
    "target = Correlated_gaussian(mu, covar)"
   ]
  },
  {
   "cell_type": "markdown",
   "metadata": {},
   "source": [
    "## Plot samples from the target"
   ]
  },
  {
   "cell_type": "code",
   "execution_count": 365,
   "metadata": {},
   "outputs": [
    {
     "data": {
      "image/png": "[encoded data removed]",
      "text/plain": [
       "<Figure size 1000x500 with 1 Axes>"
      ]
     },
     "metadata": {
      "needs_background": "light"
     },
     "output_type": "display_data"
    }
   ],
   "source": [
    "samples = target.get_samples(5000).cpu().numpy()\n",
    "\n",
    "plt.figure(figsize=(10, 5), dpi=100)\n",
    "plt.title('Target samples')\n",
    "plt.axis('equal')\n",
    "plt.scatter(samples[:, 0], samples[:, 1]);"
   ]
  },
  {
   "cell_type": "markdown",
   "metadata": {},
   "source": [
    "## Variational inference"
   ]
  },
  {
   "cell_type": "markdown",
   "metadata": {},
   "source": [
    "Мы выберем простое вариационное распределение: mean-field gaussian\n",
    "\n",
    "Оно параметризуется двумя векторами -- вектор средних и вектор стандартных отклонений."
   ]
  },
  {
   "cell_type": "code",
   "execution_count": 366,
   "metadata": {},
   "outputs": [],
   "source": [
    "# torch.nn.Parameter -- это объект, который далее передается в оптимизатор, по параметрами после производится оптимизация\n",
    "mu_param = nn.Parameter(torch.tensor([0., 0.], device=device, dtype=torch.float32))\n",
    "\n",
    "# обрати внимание, что это std_raw. Std должен быть >0, поэтому мы будем оптимизировать \"сырой\" вектор,\n",
    "# который каждый раз будем подставлять в экспоненту\n",
    "\n",
    "# то есть стартовые параметры, mu_param = 0, 0; std = exp(std_param_raw) = 1, 1\n",
    "std_param_raw = nn.Parameter(torch.tensor([0., 0.], device=device, dtype=torch.float32)) \n",
    "\n",
    "optimizer = torch.optim.Adam(params=[mu_param, std_param_raw],\n",
    "                            lr=1e-2) # добавляем параметры в оптимайзер\n",
    "lr_scheduler = torch.optim.lr_scheduler.StepLR(optimizer=optimizer, step_size=100, gamma=0.75)\n",
    "\n",
    "\n",
    "# стандартное нормальное распределение нужно нам для reparametrization trick (будет в статье про VAE)\n",
    "std_normal = torch.distributions.Normal(loc=torch.tensor(0., device=device, dtype=torch.float32),\n",
    "                                       scale=torch.tensor(1., device=device, dtype=torch.float32))"
   ]
  },
  {
   "cell_type": "code",
   "execution_count": 367,
   "metadata": {},
   "outputs": [],
   "source": [
    "batch_size = 1000\n",
    "num_batches = 10000"
   ]
  },
  {
   "cell_type": "markdown",
   "metadata": {},
   "source": [
    "KL$(q_{\\phi}(z)\\|p(z)) = \\int_z q_{\\phi}(z)\\log\\frac{q_{\\phi}(z)}{p(z)} dz = E_{q_{\\phi}(z)}\\log q_{\\phi}(z) - E _{q_{\\phi}(z)}\\log p(z)$"
   ]
  },
  {
   "cell_type": "markdown",
   "metadata": {},
   "source": [
    "Оценки мат.ожиданий из формулы выше будем брать методом Монте-Карло, то есть с помощью семплов"
   ]
  },
  {
   "cell_type": "code",
   "execution_count": 368,
   "metadata": {},
   "outputs": [
    {
     "name": "stderr",
     "output_type": "stream",
     "text": [
      "  2%|█▊                                                                          | 243/10000 [00:00<00:08, 1217.58it/s]"
     ]
    },
    {
     "name": "stdout",
     "output_type": "stream",
     "text": [
      "Current value of KL at batch number 0 is 271.0877685546875\n"
     ]
    },
    {
     "name": "stderr",
     "output_type": "stream",
     "text": [
      " 12%|█████████▏                                                                 | 1217/10000 [00:01<00:07, 1188.24it/s]"
     ]
    },
    {
     "name": "stdout",
     "output_type": "stream",
     "text": [
      "Current value of KL at batch number 1000 is 18.380416870117188\n"
     ]
    },
    {
     "name": "stderr",
     "output_type": "stream",
     "text": [
      " 22%|████████████████▎                                                          | 2180/10000 [00:01<00:06, 1122.75it/s]"
     ]
    },
    {
     "name": "stdout",
     "output_type": "stream",
     "text": [
      "Current value of KL at batch number 2000 is 9.834388732910156\n"
     ]
    },
    {
     "name": "stderr",
     "output_type": "stream",
     "text": [
      " 32%|███████████████████████▊                                                   | 3180/10000 [00:02<00:06, 1093.67it/s]"
     ]
    },
    {
     "name": "stdout",
     "output_type": "stream",
     "text": [
      "Current value of KL at batch number 3000 is 3.7610390186309814\n"
     ]
    },
    {
     "name": "stderr",
     "output_type": "stream",
     "text": [
      " 41%|███████████████████████████████                                            | 4136/10000 [00:03<00:04, 1178.78it/s]"
     ]
    },
    {
     "name": "stdout",
     "output_type": "stream",
     "text": [
      "Current value of KL at batch number 4000 is 1.5509295463562012\n"
     ]
    },
    {
     "name": "stderr",
     "output_type": "stream",
     "text": [
      " 52%|███████████████████████████████████████                                    | 5212/10000 [00:04<00:04, 1154.15it/s]"
     ]
    },
    {
     "name": "stdout",
     "output_type": "stream",
     "text": [
      "Current value of KL at batch number 5000 is 1.1893445253372192\n"
     ]
    },
    {
     "name": "stderr",
     "output_type": "stream",
     "text": [
      " 62%|██████████████████████████████████████████████▏                            | 6157/10000 [00:05<00:03, 1125.17it/s]"
     ]
    },
    {
     "name": "stdout",
     "output_type": "stream",
     "text": [
      "Current value of KL at batch number 6000 is 1.1930352449417114\n"
     ]
    },
    {
     "name": "stderr",
     "output_type": "stream",
     "text": [
      " 71%|█████████████████████████████████████████████████████▍                     | 7126/10000 [00:06<00:02, 1100.25it/s]"
     ]
    },
    {
     "name": "stdout",
     "output_type": "stream",
     "text": [
      "Current value of KL at batch number 7000 is 1.132285714149475\n"
     ]
    },
    {
     "name": "stderr",
     "output_type": "stream",
     "text": [
      " 82%|█████████████████████████████████████████████████████████████▍             | 8193/10000 [00:07<00:01, 1181.27it/s]"
     ]
    },
    {
     "name": "stdout",
     "output_type": "stream",
     "text": [
      "Current value of KL at batch number 8000 is 1.1326881647109985\n"
     ]
    },
    {
     "name": "stderr",
     "output_type": "stream",
     "text": [
      " 92%|████████████████████████████████████████████████████████████████████▋      | 9150/10000 [00:08<00:00, 1178.93it/s]"
     ]
    },
    {
     "name": "stdout",
     "output_type": "stream",
     "text": [
      "Current value of KL at batch number 9000 is 1.1813427209854126\n"
     ]
    },
    {
     "name": "stderr",
     "output_type": "stream",
     "text": [
      "100%|██████████████████████████████████████████████████████████████████████████| 10000/10000 [00:08<00:00, 1128.04it/s]\n"
     ]
    }
   ],
   "source": [
    "for i in tqdm(range(num_batches)):\n",
    "    u = std_normal.sample((batch_size, 2)) # это пригодится для reparametrization trick\n",
    "    \n",
    "    # Берем семплы из вариационного распределения:\n",
    "    std = torch.exp(std_param_raw)\n",
    "    z = mu_param + u * std # собственно, вот этот trick. Можешь пока думать об этом так, что градиент через\n",
    "                                                # случайные ноды в графе не распространяется\n",
    "    ## посчитали KL по формуле выше\n",
    "    KL = -torch.sum(std_param_raw) + std_normal.log_prob(u).sum(1).mean() - target.get_logdensity(z).mean()\n",
    "    \n",
    "    # А дальше просто минимизируем KL:\n",
    "    KL.backward()\n",
    "    optimizer.step()\n",
    "    optimizer.zero_grad()\n",
    "    \n",
    "    if i % 1000 == 0:\n",
    "        print(f\"Current value of KL at batch number {i} is {KL.cpu().detach().numpy()}\")"
   ]
  },
  {
   "cell_type": "code",
   "execution_count": null,
   "metadata": {},
   "outputs": [],
   "source": []
  },
  {
   "cell_type": "markdown",
   "metadata": {},
   "source": [
    "### Plot both: samples from variational family and target"
   ]
  },
  {
   "cell_type": "code",
   "execution_count": 369,
   "metadata": {},
   "outputs": [
    {
     "data": {
      "image/png": "[encoded data removed]",
      "text/plain": [
       "<Figure size 1000x500 with 1 Axes>"
      ]
     },
     "metadata": {
      "needs_background": "light"
     },
     "output_type": "display_data"
    }
   ],
   "source": [
    "N = 5000\n",
    "\n",
    "u = std_normal.sample((N, 2)) # это пригодится для reparametrization trick\n",
    "with torch.no_grad():\n",
    "    std = torch.exp(std_param_raw)\n",
    "    sample_varfamily = mu_param + u * std # собственно, вот этот trick. Можешь пока думать об этом так, что градиент через\n",
    "    \n",
    "samples_target = target.get_samples(N).cpu().numpy()\n",
    "\n",
    "plt.figure(figsize=(10, 5), dpi=100)\n",
    "plt.title('Samples')\n",
    "plt.scatter(samples_target[:, 0], samples_target[:, 1], label='Target')\n",
    "plt.scatter(sample_varfamily[:, 0], sample_varfamily[:, 1], label='VI')\n",
    "plt.axis('equal')\n",
    "plt.legend();"
   ]
  },
  {
   "cell_type": "markdown",
   "metadata": {},
   "source": [
    "## VI with GMM target"
   ]
  },
  {
   "cell_type": "markdown",
   "metadata": {},
   "source": [
    "### Target"
   ]
  },
  {
   "cell_type": "code",
   "execution_count": 535,
   "metadata": {},
   "outputs": [],
   "source": [
    "#### TODO: Добавь VI, таргетом для которого будет смесь двух гауссиан\n",
    "\n",
    "class GMM():\n",
    "    '''\n",
    "    This class defines GMM (Gaussian Mixture Model) target (2d)\n",
    "    '''\n",
    "    def __init__(self, mus, covars):\n",
    "        self.mus = mus\n",
    "        self.covars = covars\n",
    "        self.distr = torch.distributions.MixtureSameFamily(mus, covars)\n",
    "        \n",
    "    def get_logdensity(self, z): # оцениваем log_density в z\n",
    "        return self.distr.log_prob(z)\n",
    "    \n",
    "    def get_samples(self, N): # N - сколько семплов нужно\n",
    "        return self.distr.sample((N, ))"
   ]
  },
  {
   "cell_type": "code",
   "execution_count": 536,
   "metadata": {},
   "outputs": [],
   "source": [
    "mix = torch.distributions.Categorical(torch.ones(2,))\n",
    "comp = torch.distributions.Independent(torch.distributions.Normal(torch.randn(2,2), torch.rand(2,2)), 1)"
   ]
  },
  {
   "cell_type": "code",
   "execution_count": 537,
   "metadata": {},
   "outputs": [],
   "source": [
    "target_gmm = GMM(mix, comp)"
   ]
  },
  {
   "cell_type": "code",
   "execution_count": 538,
   "metadata": {},
   "outputs": [
    {
     "data": {
      "image/png": "[encoded data removed]",
      "text/plain": [
       "<Figure size 1000x500 with 1 Axes>"
      ]
     },
     "metadata": {
      "needs_background": "light"
     },
     "output_type": "display_data"
    }
   ],
   "source": [
    "samples = target_gmm.get_samples(5000).cpu().numpy()\n",
    "\n",
    "plt.figure(figsize=(10, 5), dpi=100)\n",
    "plt.title('Target GMM samples')\n",
    "plt.axis('equal')\n",
    "plt.scatter(samples[:, 0], samples[:, 1]);"
   ]
  },
  {
   "cell_type": "markdown",
   "metadata": {},
   "source": [
    "### VI model: unimodal Gaussian"
   ]
  },
  {
   "cell_type": "code",
   "execution_count": 539,
   "metadata": {},
   "outputs": [],
   "source": [
    "mu_param = nn.Parameter(torch.tensor([0., 0.], device=device, dtype=torch.float32))\n",
    "\n",
    "std_param_raw = nn.Parameter(torch.tensor([0., 0.], device=device, dtype=torch.float32)) \n",
    "\n",
    "optimizer = torch.optim.Adam(params=[mu_param, std_param_raw], lr=1e-2)\n",
    "lr_scheduler = torch.optim.lr_scheduler.StepLR(optimizer=optimizer, step_size=100, gamma=0.75)\n",
    "\n",
    "std_normal = torch.distributions.Normal(loc=torch.tensor(0., device=device, dtype=torch.float32),\n",
    "                                       scale=torch.tensor(1., device=device, dtype=torch.float32))"
   ]
  },
  {
   "cell_type": "code",
   "execution_count": 540,
   "metadata": {},
   "outputs": [
    {
     "name": "stderr",
     "output_type": "stream",
     "text": [
      "  2%|█▎                                                                           | 178/10000 [00:00<00:11, 885.08it/s]"
     ]
    },
    {
     "name": "stdout",
     "output_type": "stream",
     "text": [
      "Current value of KL at batch number 0 is 492.1973876953125\n"
     ]
    },
    {
     "name": "stderr",
     "output_type": "stream",
     "text": [
      " 12%|████████▉                                                                   | 1175/10000 [00:01<00:09, 890.39it/s]"
     ]
    },
    {
     "name": "stdout",
     "output_type": "stream",
     "text": [
      "Current value of KL at batch number 1000 is 6.84508752822876\n"
     ]
    },
    {
     "name": "stderr",
     "output_type": "stream",
     "text": [
      " 22%|████████████████▌                                                           | 2174/10000 [00:02<00:08, 911.34it/s]"
     ]
    },
    {
     "name": "stdout",
     "output_type": "stream",
     "text": [
      "Current value of KL at batch number 2000 is 1.6528277397155762\n"
     ]
    },
    {
     "name": "stderr",
     "output_type": "stream",
     "text": [
      " 31%|███████████████████████▌                                                    | 3096/10000 [00:03<00:07, 914.68it/s]"
     ]
    },
    {
     "name": "stdout",
     "output_type": "stream",
     "text": [
      "Current value of KL at batch number 3000 is 0.8916136622428894\n"
     ]
    },
    {
     "name": "stderr",
     "output_type": "stream",
     "text": [
      " 42%|███████████████████████████████▊                                            | 4190/10000 [00:04<00:06, 906.35it/s]"
     ]
    },
    {
     "name": "stdout",
     "output_type": "stream",
     "text": [
      "Current value of KL at batch number 4000 is 0.7289983034133911\n"
     ]
    },
    {
     "name": "stderr",
     "output_type": "stream",
     "text": [
      " 51%|██████████████████████████████████████▋                                     | 5085/10000 [00:05<00:05, 846.83it/s]"
     ]
    },
    {
     "name": "stdout",
     "output_type": "stream",
     "text": [
      "Current value of KL at batch number 5000 is 0.697260856628418\n"
     ]
    },
    {
     "name": "stderr",
     "output_type": "stream",
     "text": [
      " 62%|██████████████████████████████████████████████▉                             | 6169/10000 [00:06<00:04, 915.32it/s]"
     ]
    },
    {
     "name": "stdout",
     "output_type": "stream",
     "text": [
      "Current value of KL at batch number 6000 is 0.6948519945144653\n"
     ]
    },
    {
     "name": "stderr",
     "output_type": "stream",
     "text": [
      " 72%|██████████████████████████████████████████████████████▋                     | 7188/10000 [00:08<00:03, 920.96it/s]"
     ]
    },
    {
     "name": "stdout",
     "output_type": "stream",
     "text": [
      "Current value of KL at batch number 7000 is 0.6948472261428833\n"
     ]
    },
    {
     "name": "stderr",
     "output_type": "stream",
     "text": [
      " 81%|█████████████████████████████████████████████████████████████▋              | 8109/10000 [00:09<00:02, 892.61it/s]"
     ]
    },
    {
     "name": "stdout",
     "output_type": "stream",
     "text": [
      "Current value of KL at batch number 8000 is 0.6965736150741577\n"
     ]
    },
    {
     "name": "stderr",
     "output_type": "stream",
     "text": [
      " 91%|█████████████████████████████████████████████████████████████████████▏      | 9103/10000 [00:10<00:00, 906.67it/s]"
     ]
    },
    {
     "name": "stdout",
     "output_type": "stream",
     "text": [
      "Current value of KL at batch number 9000 is 0.6930375099182129\n"
     ]
    },
    {
     "name": "stderr",
     "output_type": "stream",
     "text": [
      "100%|███████████████████████████████████████████████████████████████████████████| 10000/10000 [00:11<00:00, 894.71it/s]\n"
     ]
    }
   ],
   "source": [
    "for i in tqdm(range(num_batches)):\n",
    "    u = std_normal.sample((batch_size, 2))\n",
    "    \n",
    "    std = torch.exp(std_param_raw)\n",
    "    z = mu_param + u * std\n",
    "    \n",
    "    KL = -torch.sum(std_param_raw) + std_normal.log_prob(u).sum(1).mean() - target_gmm.get_logdensity(z).mean()\n",
    "    \n",
    "    KL.backward()\n",
    "    optimizer.step()\n",
    "    optimizer.zero_grad()\n",
    "    \n",
    "    if i % 1000 == 0:\n",
    "        print(f\"Current value of KL at batch number {i} is {KL.cpu().detach().numpy()}\")"
   ]
  },
  {
   "cell_type": "code",
   "execution_count": 541,
   "metadata": {},
   "outputs": [
    {
     "data": {
      "image/png": "[encoded data removed]",
      "text/plain": [
       "<Figure size 1000x500 with 1 Axes>"
      ]
     },
     "metadata": {
      "needs_background": "light"
     },
     "output_type": "display_data"
    }
   ],
   "source": [
    "N = 5000\n",
    "\n",
    "u = std_normal.sample((N, 2))\n",
    "with torch.no_grad():\n",
    "    std = torch.exp(std_param_raw)\n",
    "    sample_varfamily = mu_param + u * std\n",
    "    \n",
    "samples_target_gmm = target_gmm.get_samples(N).cpu().numpy()\n",
    "\n",
    "plt.figure(figsize=(10, 5), dpi=100)\n",
    "plt.title('Samples')\n",
    "plt.scatter(samples_target_gmm[:, 0], samples_target_gmm[:, 1], label='Target GMM')\n",
    "plt.scatter(sample_varfamily[:, 0], sample_varfamily[:, 1], label='VI')\n",
    "plt.axis('equal')\n",
    "plt.legend();"
   ]
  },
  {
   "cell_type": "markdown",
   "metadata": {},
   "source": [
    "## Approximating a mixture of Gaussians"
   ]
  },
  {
   "cell_type": "code",
   "execution_count": 676,
   "metadata": {},
   "outputs": [],
   "source": [
    "mus_param = nn.Parameter(torch.tensor([[0., 0.],[1., 1.]], device=device, dtype=torch.float32))\n",
    "\n",
    "stds_param_raw = nn.Parameter(torch.tensor([[0., 0.],[0., 0.]], device=device, dtype=torch.float32))\n",
    "\n",
    "pi_raw = nn.Parameter(torch.tensor(0., device=device, dtype=torch.float32))\n",
    "\n",
    "optimizer = torch.optim.Adam(params=[mus_param, stds_param_raw, pi_raw], lr=1e-2)\n",
    "lr_scheduler = torch.optim.lr_scheduler.StepLR(optimizer=optimizer, step_size=100, gamma=0.75)\n",
    "\n",
    "std_normal = torch.distributions.Normal(loc=torch.tensor(0., device=device, dtype=torch.float32),\n",
    "                                       scale=torch.tensor(1., device=device, dtype=torch.float32))\n",
    "KL_values = []\n",
    "\n",
    "#std_normal1 = torch.distributions.Normal(loc=mus_param[0], scale=std[0])\n",
    "#std_normal2 = torch.distributions.Normal(loc=mus_param[1], scale=std[1])\n",
    "#mix = torch.distributions.Categorical(pi)\n",
    "#comp = torch.distributions.Independent(torch.distributions.Normal(torch.randn(2,2), torch.rand(2,2)), 1)\n",
    "#std_normal_mix = torch.distributions.MixtureSameFamily(mix, comp)"
   ]
  },
  {
   "cell_type": "code",
   "execution_count": 677,
   "metadata": {},
   "outputs": [
    {
     "name": "stderr",
     "output_type": "stream",
     "text": [
      "  1%|▌                                                                             | 75/10000 [00:00<00:26, 374.86it/s]"
     ]
    },
    {
     "name": "stdout",
     "output_type": "stream",
     "text": [
      "Current value of KL at batch number 0 is -2182.30908203125\n"
     ]
    },
    {
     "name": "stderr",
     "output_type": "stream",
     "text": [
      " 11%|████████                                                                    | 1067/10000 [00:02<00:24, 371.00it/s]"
     ]
    },
    {
     "name": "stdout",
     "output_type": "stream",
     "text": [
      "Current value of KL at batch number 1000 is 48.208404541015625\n"
     ]
    },
    {
     "name": "stderr",
     "output_type": "stream",
     "text": [
      " 21%|███████████████▋                                                            | 2067/10000 [00:05<00:20, 392.73it/s]"
     ]
    },
    {
     "name": "stdout",
     "output_type": "stream",
     "text": [
      "Current value of KL at batch number 2000 is 41.420772552490234\n"
     ]
    },
    {
     "name": "stderr",
     "output_type": "stream",
     "text": [
      " 31%|███████████████████████▏                                                    | 3052/10000 [00:07<00:18, 372.48it/s]"
     ]
    },
    {
     "name": "stdout",
     "output_type": "stream",
     "text": [
      "Current value of KL at batch number 3000 is 12.039182662963867\n"
     ]
    },
    {
     "name": "stderr",
     "output_type": "stream",
     "text": [
      " 41%|██████████████████████████████▉                                             | 4078/10000 [00:10<00:15, 387.82it/s]"
     ]
    },
    {
     "name": "stdout",
     "output_type": "stream",
     "text": [
      "Current value of KL at batch number 4000 is 8.520248413085938\n"
     ]
    },
    {
     "name": "stderr",
     "output_type": "stream",
     "text": [
      " 50%|██████████████████████████████████████▎                                     | 5035/10000 [00:12<00:12, 392.56it/s]"
     ]
    },
    {
     "name": "stdout",
     "output_type": "stream",
     "text": [
      "Current value of KL at batch number 5000 is 7.504177570343018\n"
     ]
    },
    {
     "name": "stderr",
     "output_type": "stream",
     "text": [
      " 61%|██████████████████████████████████████████████▏                             | 6074/10000 [00:15<00:10, 386.78it/s]"
     ]
    },
    {
     "name": "stdout",
     "output_type": "stream",
     "text": [
      "Current value of KL at batch number 6000 is 7.329105854034424\n"
     ]
    },
    {
     "name": "stderr",
     "output_type": "stream",
     "text": [
      " 71%|█████████████████████████████████████████████████████▊                      | 7073/10000 [00:18<00:07, 395.27it/s]"
     ]
    },
    {
     "name": "stdout",
     "output_type": "stream",
     "text": [
      "Current value of KL at batch number 7000 is 6.904984474182129\n"
     ]
    },
    {
     "name": "stderr",
     "output_type": "stream",
     "text": [
      " 81%|█████████████████████████████████████████████████████████████▎              | 8074/10000 [00:20<00:04, 393.98it/s]"
     ]
    },
    {
     "name": "stdout",
     "output_type": "stream",
     "text": [
      "Current value of KL at batch number 8000 is 7.516268730163574\n"
     ]
    },
    {
     "name": "stderr",
     "output_type": "stream",
     "text": [
      " 90%|████████████████████████████████████████████████████████████████████▋       | 9033/10000 [00:23<00:02, 392.32it/s]"
     ]
    },
    {
     "name": "stdout",
     "output_type": "stream",
     "text": [
      "Current value of KL at batch number 9000 is 7.095657825469971\n"
     ]
    },
    {
     "name": "stderr",
     "output_type": "stream",
     "text": [
      "100%|███████████████████████████████████████████████████████████████████████████| 10000/10000 [00:25<00:00, 388.31it/s]\n"
     ]
    }
   ],
   "source": [
    "for i in tqdm(range(num_batches)):\n",
    "    pi = torch.sigmoid(pi_raw)\n",
    "    dist = torch.distributions.Bernoulli(probs=pi)\n",
    "    c = dist.sample((batch_size,1))\n",
    "       \n",
    "    std = torch.exp(stds_param_raw)\n",
    "    std_normal1 = torch.distributions.Normal(loc=torch.sum(mus_param[0]), scale=torch.sum(std[0]))\n",
    "    std_normal2 = torch.distributions.Normal(loc=torch.sum(mus_param[1]), scale=torch.sum(std[1]))\n",
    "    \n",
    "    #u = std_normal1.sample((batch_size, 2)) * c + std_normal2.sample((batch_size, 2)) * (1 - c)\n",
    "    \n",
    "    u = std_normal.sample((batch_size, 2))\n",
    "    \n",
    "    #z = mus_param[0] + u * std[0]\n",
    "    z = mus_param[1]*c + mus_param[0]*(1-c) + u * (std[1]*c + std[0]*(1-c)) # сэмпл из одной из гауссиан в зависимости от pi\n",
    "    \n",
    "    g1 = torch.log(1-pi) + std_normal1.log_prob(u).sum(1).mean()# - torch.sum(std[1])\n",
    "    g2 = torch.log(pi) + std_normal2.log_prob(u).sum(1).mean()# - torch.sum(std[0])\n",
    "    log_q_components = torch.cat((g1[None], g2[None]), 0)\n",
    "    \n",
    "    KL = torch.logsumexp(log_q_components, 0)\\\n",
    "        * (torch.logsumexp(log_q_components, 0) + 1 - target_gmm.get_logdensity(z).mean()).detach()\\\n",
    "        - target_gmm.get_logdensity(z).mean()\n",
    "    #KL = -torch.sum(stds_param_raw) + std_normal.log_prob(u).sum(1).mean() * ( std_normal.log_prob(u).sum(1).mean() + 1 - target_gmm.get_logdensity(z).mean() ).detach() - target_gmm.get_logdensity(z).mean()\n",
    "   \n",
    "    KL.backward()\n",
    "    optimizer.step()\n",
    "    optimizer.zero_grad()\n",
    "    \n",
    "    if i % 1000 == 0:\n",
    "        print(f\"Current value of KL at batch number {i} is {KL.cpu().detach().numpy()}\")\n",
    "        KL_values.append([i, KL.cpu().detach().numpy().item()])"
   ]
  },
  {
   "cell_type": "code",
   "execution_count": 695,
   "metadata": {},
   "outputs": [
    {
     "data": {
      "image/png": "[encoded data removed]",
      "text/plain": [
       "<Figure size 1000x500 with 1 Axes>"
      ]
     },
     "metadata": {
      "needs_background": "light"
     },
     "output_type": "display_data"
    }
   ],
   "source": [
    "N = 5000\n",
    "\n",
    "dist = torch.distributions.Bernoulli(probs=torch.sigmoid(pi_raw))\n",
    "c =  dist.sample((N,1))\n",
    "c = torch.cat((c,c), dim=1)\n",
    "#c = torch.cat((c,c), dim=2) # to same dim as u\n",
    " \n",
    "u = std_normal.sample((N,2))\n",
    "\n",
    "with torch.no_grad():\n",
    "    std = torch.exp(stds_param_raw)\n",
    "    sample_varfamily = (mus_param[0] + u * std[0]) * (1-c) + (mus_param[1] + u * std[1]) * c\n",
    "    \n",
    "samples_target_gmm = target_gmm.get_samples(N).cpu().numpy()\n",
    "\n",
    "plt.figure(figsize=(10, 5), dpi=100)\n",
    "plt.title('Samples')\n",
    "plt.scatter(samples_target_gmm[:, 0], samples_target_gmm[:, 1], label='Target GMM')\n",
    "#plt.scatter(sample_varfamily[:, 0], sample_varfamily[:, 1], label='VI g1', alpha=0.3)\n",
    "#plt.scatter(sample_varfamily[:, 0], sample_varfamily[:, 1], label='VI g2', alpha=0.1)\n",
    "plt.scatter(sample_varfamily[:, 0], sample_varfamily[:, 1], label='VI')\n",
    "plt.axis('equal')\n",
    "plt.legend();"
   ]
  },
  {
   "cell_type": "code",
   "execution_count": 696,
   "metadata": {},
   "outputs": [
    {
     "data": {
      "text/plain": [
       "<matplotlib.collections.LineCollection at 0x1fca3117520>"
      ]
     },
     "execution_count": 696,
     "metadata": {},
     "output_type": "execute_result"
    },
    {
     "data": {
      "image/png": "[encoded data removed]",
      "text/plain": [
       "<Figure size 576x360 with 1 Axes>"
      ]
     },
     "metadata": {
      "needs_background": "light"
     },
     "output_type": "display_data"
    }
   ],
   "source": [
    "KL_values = np.array(KL_values)\n",
    "plt.figure(figsize=(8, 5))\n",
    "plt.title('KL divergence')\n",
    "plt.plot(KL_values[:,0], KL_values[:,1])\n",
    "plt.hlines(0, KL_values[:,0][0], KL_values[:,0][-1], color='r', linestyles='--')"
   ]
  },
  {
   "cell_type": "code",
   "execution_count": null,
   "metadata": {},
   "outputs": [],
   "source": []
  }
 ],
 "metadata": {
  "kernelspec": {
   "display_name": "Python 3",
   "language": "python",
   "name": "python3"
  },
  "language_info": {
   "codemirror_mode": {
    "name": "ipython",
    "version": 3
   },
   "file_extension": ".py",
   "mimetype": "text/x-python",
   "name": "python",
   "nbconvert_exporter": "python",
   "pygments_lexer": "ipython3",
   "version": "3.8.8"
  }
 },
 "nbformat": 4,
 "nbformat_minor": 4
}
